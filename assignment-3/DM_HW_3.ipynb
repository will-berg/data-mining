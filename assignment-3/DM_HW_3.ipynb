{
  "cells": [
    {
      "cell_type": "markdown",
      "metadata": {
        "id": "cg70V_-7VwXQ"
      },
      "source": [
        "## Data"
      ]
    },
    {
      "cell_type": "code",
      "execution_count": 5,
      "metadata": {
        "colab": {
          "base_uri": "https://localhost:8080/"
        },
        "id": "3T2tndGdsLAB",
        "outputId": "20cf2725-f5bf-4aff-f395-a7b6ae4db329"
      },
      "outputs": [
        {
          "name": "stdout",
          "output_type": "stream",
          "text": [
            "--2023-11-26 23:18:33--  https://snap.stanford.edu/data/web-NotreDame.txt.gz\n",
            "Resolving snap.stanford.edu (snap.stanford.edu)... 171.64.75.80\n",
            "Connecting to snap.stanford.edu (snap.stanford.edu)|171.64.75.80|:443... connected.\n",
            "HTTP request sent, awaiting response... 200 OK\n",
            "Length: 3708538 (3.5M) [application/x-gzip]\n",
            "Saving to: 'web-NotreDame.txt.gz'\n",
            "\n",
            "web-NotreDame.txt.g  13%[=>                  ] 496.00K  27.8KB/s    in 2m 16s  \n",
            "\n",
            "2023-11-26 23:20:50 (3.65 KB/s) - Connection closed at byte 507904. Retrying.\n",
            "\n",
            "--2023-11-26 23:20:51--  (try: 2)  https://snap.stanford.edu/data/web-NotreDame.txt.gz\n",
            "Connecting to snap.stanford.edu (snap.stanford.edu)|171.64.75.80|:443... connected.\n",
            "HTTP request sent, awaiting response... 206 Partial Content\n",
            "Length: 3708538 (3.5M), 3200634 (3.1M) remaining [application/x-gzip]\n",
            "Saving to: 'web-NotreDame.txt.gz'\n",
            "\n",
            "web-NotreDame.txt.g  30%[++===>              ]   1.08M  --.-KB/s    in 15m 49s \n",
            "\n",
            "2023-11-26 23:37:12 (656 B/s) - Read error at byte 1130496/3708538 (Connection timed out). Retrying.\n",
            "\n",
            "--2023-11-26 23:37:14--  (try: 3)  https://snap.stanford.edu/data/web-NotreDame.txt.gz\n",
            "Connecting to snap.stanford.edu (snap.stanford.edu)|171.64.75.80|:443... connected.\n",
            "HTTP request sent, awaiting response... 206 Partial Content\n",
            "Length: 3708538 (3.5M), 2578042 (2.5M) remaining [application/x-gzip]\n",
            "Saving to: 'web-NotreDame.txt.gz'\n",
            "\n",
            "web-NotreDame.txt.g  34%[++++++              ]   1.20M  --.-KB/s    in 15m 45s \n",
            "\n",
            "2023-11-26 23:53:00 (139 B/s) - Read error at byte 1261568/3708538 (Connection timed out). Retrying.\n",
            "\n",
            "--2023-11-26 23:53:03--  (try: 4)  https://snap.stanford.edu/data/web-NotreDame.txt.gz\n",
            "Connecting to snap.stanford.edu (snap.stanford.edu)|171.64.75.80|:443... connected.\n",
            "HTTP request sent, awaiting response... 206 Partial Content\n",
            "Length: 3708538 (3.5M), 2446970 (2.3M) remaining [application/x-gzip]\n",
            "Saving to: 'web-NotreDame.txt.gz'\n",
            "\n",
            "web-NotreDame.txt.g  45%[++++++==>           ]   1.61M  16.0KB/s    in 4m 38s  \n",
            "\n",
            "2023-11-26 23:57:43 (1.50 KB/s) - Connection closed at byte 1687552. Retrying.\n",
            "\n",
            "--2023-11-26 23:57:47--  (try: 5)  https://snap.stanford.edu/data/web-NotreDame.txt.gz\n",
            "Connecting to snap.stanford.edu (snap.stanford.edu)|171.64.75.80|:443... connected.\n",
            "HTTP request sent, awaiting response... 206 Partial Content\n",
            "Length: 3708538 (3.5M), 2020986 (1.9M) remaining [application/x-gzip]\n",
            "Saving to: 'web-NotreDame.txt.gz'\n",
            "\n",
            "web-NotreDame.txt.g  78%[+++++++++=====>     ]   2.77M  --.-KB/s    in 15m 5s  \n",
            "\n",
            "2023-11-27 00:12:57 (1.31 KB/s) - Read error at byte 2899968/3708538 (Connection timed out). Retrying.\n",
            "\n",
            "--2023-11-27 00:13:02--  (try: 6)  https://snap.stanford.edu/data/web-NotreDame.txt.gz\n",
            "Connecting to snap.stanford.edu (snap.stanford.edu)|171.64.75.80|:443... connected.\n",
            "HTTP request sent, awaiting response... 206 Partial Content\n",
            "Length: 3708538 (3.5M), 808570 (790K) remaining [application/x-gzip]\n",
            "Saving to: 'web-NotreDame.txt.gz'\n",
            "\n",
            "web-NotreDame.txt.g  90%[+++++++++++++++==>  ]   3.19M  41.8KB/s    in 2m 38s  \n",
            "\n",
            "2023-11-27 00:15:44 (2.73 KB/s) - Connection closed at byte 3342336. Retrying.\n",
            "\n",
            "--2023-11-27 00:15:50--  (try: 7)  https://snap.stanford.edu/data/web-NotreDame.txt.gz\n",
            "Connecting to snap.stanford.edu (snap.stanford.edu)|171.64.75.80|:443... connected.\n",
            "HTTP request sent, awaiting response... 206 Partial Content\n",
            "Length: 3708538 (3.5M), 366202 (358K) remaining [application/x-gzip]\n",
            "Saving to: 'web-NotreDame.txt.gz'\n",
            "\n",
            "web-NotreDame.txt.g  91%[++++++++++++++++++  ]   3.23M  --.-KB/s    in 15m 14s \n",
            "\n",
            "2023-11-27 00:31:05 (53.8 B/s) - Read error at byte 3391488/3708538 (Connection timed out). Retrying.\n",
            "\n",
            "--2023-11-27 00:31:12--  (try: 8)  https://snap.stanford.edu/data/web-NotreDame.txt.gz\n",
            "Connecting to snap.stanford.edu (snap.stanford.edu)|171.64.75.80|:443... connected.\n",
            "HTTP request sent, awaiting response... 206 Partial Content\n",
            "Length: 3708538 (3.5M), 317050 (310K) remaining [application/x-gzip]\n",
            "Saving to: 'web-NotreDame.txt.gz'\n",
            "\n",
            "web-NotreDame.txt.g  93%[++++++++++++++++++  ]   3.30M  --.-KB/s    in 16m 1s  \n",
            "\n",
            "2023-11-27 00:47:13 (68.2 B/s) - Read error at byte 3457024/3708538 (Connection timed out). Retrying.\n",
            "\n",
            "--2023-11-27 00:47:21--  (try: 9)  https://snap.stanford.edu/data/web-NotreDame.txt.gz\n",
            "Connecting to snap.stanford.edu (snap.stanford.edu)|171.64.75.80|:443... connected.\n",
            "HTTP request sent, awaiting response... 206 Partial Content\n",
            "Length: 3708538 (3.5M), 251514 (246K) remaining [application/x-gzip]\n",
            "Saving to: 'web-NotreDame.txt.gz'\n",
            "\n",
            "web-NotreDame.txt.g 100%[++++++++++++++++++=>]   3.54M   227KB/s    in 1.1s    \n",
            "\n",
            "2023-11-27 00:47:23 (227 KB/s) - 'web-NotreDame.txt.gz' saved [3708538/3708538]\n",
            "\n"
          ]
        }
      ],
      "source": [
        "!wget https://snap.stanford.edu/data/web-NotreDame.txt.gz"
      ]
    },
    {
      "cell_type": "code",
      "execution_count": 21,
      "metadata": {
        "colab": {
          "base_uri": "https://localhost:8080/"
        },
        "id": "5HgK37Ezse7z",
        "outputId": "a5729485-b00b-493f-8169-7e813be606b4"
      },
      "outputs": [
        {
          "name": "stdout",
          "output_type": "stream",
          "text": [
            "gzip: web-NotreDame.txt.gz: No such file or directory\n"
          ]
        }
      ],
      "source": [
        "!gzip -dv web-NotreDame.txt.gz"
      ]
    },
    {
      "cell_type": "code",
      "execution_count": 22,
      "metadata": {
        "colab": {
          "base_uri": "https://localhost:8080/"
        },
        "id": "JaQ43yFMtILk",
        "outputId": "eeb4a3b9-ea44-4919-a1e2-33113e6595fb"
      },
      "outputs": [
        {
          "name": "stdout",
          "output_type": "stream",
          "text": [
            "# Directed graph (each unordered pair of nodes is saved once): web-NotreDame.txt \n",
            "# University of Notre Dame web graph from 1999 by Albert, Jeong and Barabasi\n",
            "# Nodes: 325729 Edges: 1497134\n",
            "# FromNodeId\tToNodeId\n",
            "0\t0\n",
            "0\t1\n",
            "0\t2\n",
            "0\t3\n",
            "0\t4\n",
            "0\t5\n"
          ]
        }
      ],
      "source": [
        "!head web-NotreDame.txt"
      ]
    },
    {
      "cell_type": "code",
      "execution_count": 23,
      "metadata": {
        "id": "MWdYPGYien-o"
      },
      "outputs": [],
      "source": [
        "!sed -n '5,1004p;1005q' web-NotreDame.txt > web-small.txt"
      ]
    },
    {
      "cell_type": "code",
      "execution_count": 24,
      "metadata": {},
      "outputs": [
        {
          "name": "stdout",
          "output_type": "stream",
          "text": [
            "Defaulting to user installation because normal site-packages is not writeable\n",
            "Requirement already satisfied: ipywidgets in /home/william/.local/lib/python3.10/site-packages (8.1.1)\n",
            "Requirement already satisfied: traitlets>=4.3.1 in /home/william/.local/lib/python3.10/site-packages (from ipywidgets) (5.13.0)\n",
            "Requirement already satisfied: comm>=0.1.3 in /home/william/.local/lib/python3.10/site-packages (from ipywidgets) (0.2.0)\n",
            "Requirement already satisfied: jupyterlab-widgets~=3.0.9 in /home/william/.local/lib/python3.10/site-packages (from ipywidgets) (3.0.9)\n",
            "Requirement already satisfied: widgetsnbextension~=4.0.9 in /home/william/.local/lib/python3.10/site-packages (from ipywidgets) (4.0.9)\n",
            "Requirement already satisfied: ipython>=6.1.0 in /home/william/.local/lib/python3.10/site-packages (from ipywidgets) (8.17.2)\n",
            "Requirement already satisfied: pexpect>4.3 in /usr/lib/python3/dist-packages (from ipython>=6.1.0->ipywidgets) (4.8.0)\n",
            "Requirement already satisfied: jedi>=0.16 in /home/william/.local/lib/python3.10/site-packages (from ipython>=6.1.0->ipywidgets) (0.19.1)\n",
            "Requirement already satisfied: pygments>=2.4.0 in /usr/lib/python3/dist-packages (from ipython>=6.1.0->ipywidgets) (2.11.2)\n",
            "Requirement already satisfied: stack-data in /home/william/.local/lib/python3.10/site-packages (from ipython>=6.1.0->ipywidgets) (0.6.3)\n",
            "Requirement already satisfied: prompt-toolkit!=3.0.37,<3.1.0,>=3.0.30 in /home/william/.local/lib/python3.10/site-packages (from ipython>=6.1.0->ipywidgets) (3.0.40)\n",
            "Requirement already satisfied: matplotlib-inline in /home/william/.local/lib/python3.10/site-packages (from ipython>=6.1.0->ipywidgets) (0.1.6)\n",
            "Requirement already satisfied: exceptiongroup in /home/william/.local/lib/python3.10/site-packages (from ipython>=6.1.0->ipywidgets) (1.1.3)\n",
            "Requirement already satisfied: decorator in /home/william/.local/lib/python3.10/site-packages (from ipython>=6.1.0->ipywidgets) (5.1.1)\n",
            "Requirement already satisfied: parso<0.9.0,>=0.8.3 in /home/william/.local/lib/python3.10/site-packages (from jedi>=0.16->ipython>=6.1.0->ipywidgets) (0.8.3)\n",
            "Requirement already satisfied: wcwidth in /home/william/.local/lib/python3.10/site-packages (from prompt-toolkit!=3.0.37,<3.1.0,>=3.0.30->ipython>=6.1.0->ipywidgets) (0.2.9)\n",
            "Requirement already satisfied: executing>=1.2.0 in /home/william/.local/lib/python3.10/site-packages (from stack-data->ipython>=6.1.0->ipywidgets) (2.0.1)\n",
            "Requirement already satisfied: asttokens>=2.1.0 in /home/william/.local/lib/python3.10/site-packages (from stack-data->ipython>=6.1.0->ipywidgets) (2.4.1)\n",
            "Requirement already satisfied: pure-eval in /home/william/.local/lib/python3.10/site-packages (from stack-data->ipython>=6.1.0->ipywidgets) (0.2.2)\n",
            "Requirement already satisfied: six>=1.12.0 in /usr/lib/python3/dist-packages (from asttokens>=2.1.0->stack-data->ipython>=6.1.0->ipywidgets) (1.16.0)\n",
            "usage: jupyter [-h] [--version] [--config-dir] [--data-dir] [--runtime-dir]\n",
            "               [--paths] [--json] [--debug]\n",
            "               [subcommand]\n",
            "\n",
            "Jupyter: Interactive Computing\n",
            "\n",
            "positional arguments:\n",
            "  subcommand     the subcommand to launch\n",
            "\n",
            "options:\n",
            "  -h, --help     show this help message and exit\n",
            "  --version      show the versions of core jupyter packages and exit\n",
            "  --config-dir   show Jupyter config dir\n",
            "  --data-dir     show Jupyter data dir\n",
            "  --runtime-dir  show Jupyter runtime dir\n",
            "  --paths        show all Jupyter paths. Add --json for machine-readable\n",
            "                 format.\n",
            "  --json         output paths as machine-readable json\n",
            "  --debug        output debug information about paths\n",
            "\n",
            "Available subcommands: kernel kernelspec migrate run troubleshoot\n",
            "\n",
            "Jupyter command `jupyter-nbextension` not found.\n"
          ]
        }
      ],
      "source": [
        "!pip install ipywidgets\n",
        "!jupyter nbextension enable --py widgetsnbextension"
      ]
    },
    {
      "cell_type": "code",
      "execution_count": 31,
      "metadata": {
        "id": "Fy_EFFCxMssL"
      },
      "outputs": [],
      "source": [
        "import random\n",
        "from tqdm import tqdm\n",
        "import numpy as np\n",
        "import matplotlib.pyplot as plt\n",
        "from ipywidgets import FloatProgress"
      ]
    },
    {
      "cell_type": "markdown",
      "metadata": {
        "id": "0hRnGxM2J1UC"
      },
      "source": [
        "## Network stream"
      ]
    },
    {
      "cell_type": "code",
      "execution_count": 32,
      "metadata": {
        "id": "TZb--PW_J_Q5"
      },
      "outputs": [],
      "source": [
        "class NetworkEdgeStream:\n",
        "\n",
        "  def __init__(self, filename, show_progress_bar):\n",
        "    self.filename = filename\n",
        "    self.show_progress_bar = show_progress_bar\n",
        "\n",
        "  def get_edges(self):\n",
        "    with open(self.filename, \"r\") as f:\n",
        "      lines = f.readlines()\n",
        "      if self.show_progress_bar:\n",
        "        lines = tqdm(lines)\n",
        "      for line in lines:\n",
        "        line = line.strip()\n",
        "        if line.startswith(\"#\"):\n",
        "          continue\n",
        "        else:\n",
        "          yield tuple(map(int, line.split(\"\\t\")))"
      ]
    },
    {
      "cell_type": "markdown",
      "metadata": {
        "id": "--57CthJJLCr"
      },
      "source": [
        "## Reservoir sampling"
      ]
    },
    {
      "cell_type": "code",
      "execution_count": 34,
      "metadata": {
        "id": "PFZXWWgOJOpA"
      },
      "outputs": [],
      "source": [
        "class ReservoirSampler:\n",
        "\n",
        "  def __init__(self, capacity):\n",
        "    self.M = capacity\n",
        "    self.reservoir = []\n",
        "    self.counter = 0\n",
        "\n",
        "  def add(self, element):\n",
        "    self.counter += 1\n",
        "    if len(self.reservoir) < self.M:\n",
        "      self.reservoir.append(element)\n",
        "      return True\n",
        "    elif self.M / self.counter >= random.random():\n",
        "      eviction_index = random.randint(0, self.M - 1)\n",
        "      self.reservoir[eviction_index] = element\n",
        "      return True\n",
        "    return False"
      ]
    },
    {
      "cell_type": "markdown",
      "metadata": {
        "id": "dsHTYC__O9y9"
      },
      "source": [
        "## Streaming triangles"
      ]
    },
    {
      "cell_type": "code",
      "execution_count": 35,
      "metadata": {
        "id": "W3XeCnGeO9L_"
      },
      "outputs": [],
      "source": [
        "class StreamingTriangles:\n",
        "\n",
        "  def __init__(self, edge_stream, edge_capacity, wedge_capacity):\n",
        "    self.edge_stream = edge_stream\n",
        "    self.edge_capacity = edge_capacity\n",
        "    self.edge_res = [None for i in range(edge_capacity)] # edges are tuples (a,b)\n",
        "    self.wedge_capacity = wedge_capacity\n",
        "    self.wedge_res = [None for i in range(wedge_capacity)] # wedges are tuples of format ((a,b),(b,c))\n",
        "    self.is_closed = [False for i in range(wedge_capacity)]\n",
        "    self.tot_wedges = 0\n",
        "    self.counter = 0\n",
        "    self.ends_with_dict = dict()\n",
        "\n",
        "  def run(self):\n",
        "    for edge in self.edge_stream.get_edges():\n",
        "      _ = self.add_edge(edge)\n",
        "\n",
        "  def run_return_estimates(self):\n",
        "    for edge in self.edge_stream.get_edges():\n",
        "      yield self.add_edge(edge)\n",
        "\n",
        "  def add_edge(self, edge):\n",
        "    self.counter += 1\n",
        "    self._update(edge)\n",
        "    rho = self._calculate_is_closed_fraction()\n",
        "    kappa_t = 3 * rho\n",
        "    T_t = (rho * self.counter ** 2) / (self.edge_capacity * (self.edge_capacity - 1)) * self.tot_wedges\n",
        "    return kappa_t, T_t\n",
        "\n",
        "  def _calculate_is_closed_fraction(self):\n",
        "    return sum(self.is_closed) / len(self.is_closed)\n",
        "\n",
        "  def _update(self, edge):\n",
        "    self._check_if_closes_wedge(edge)\n",
        "    edge_res_updated = self._update_edge_res(edge)\n",
        "    if edge_res_updated:\n",
        "      self._update_wedges(edge)\n",
        "\n",
        "  def _check_if_closes_wedge(self, edge):\n",
        "    for i,wedge in enumerate(self.wedge_res):\n",
        "      if wedge is not None and (wedge[1][1] == edge[0] and wedge[0][0] == edge[1]):\n",
        "        self.is_closed[i] = True\n",
        "\n",
        "  def _update_edge_res(self, new_edge):\n",
        "    has_changed = False\n",
        "    for i in range(self.edge_capacity):\n",
        "      if random.random() <= 1 / self.counter:\n",
        "        previous = self.edge_res[i]\n",
        "        self.edge_res[i] = new_edge\n",
        "        self._replace_edge_in_ends_dict(previous, new_edge)\n",
        "        has_changed = True\n",
        "    return has_changed\n",
        "\n",
        "  def _replace_edge_in_ends_dict(self, old_edge, new_edge):\n",
        "    if old_edge is not None and old_edge in self.ends_with_dict:\n",
        "      self.ends_with_dict[old_edge[1]].remove(old_edge)\n",
        "      if len(self.ends_with_dict[old_edge[1]]) == 0:\n",
        "        del self.ends_with_dict[old_edge[1]]\n",
        "    if new_edge[1] in self.ends_with_dict:\n",
        "      self.ends_with_dict[new_edge[1]].add(new_edge)\n",
        "    else:\n",
        "      self.ends_with_dict[new_edge[1]] = {new_edge}\n",
        "\n",
        "  def _update_wedges(self, edge):\n",
        "    wedges = self._determine_wedges(self.edge_res)\n",
        "    self.tot_wedges = len(wedges)\n",
        "    N_t = [w for w in wedges if edge in w]\n",
        "    new_wedges = len(N_t)\n",
        "    if self.tot_wedges != 0:\n",
        "      for i in range(self.wedge_capacity):\n",
        "        if random.random() <= new_wedges / self.tot_wedges:\n",
        "          w = N_t[random.randint(0, new_wedges - 1)]\n",
        "          self.wedge_res[i] = w\n",
        "          self.is_closed[i] = False\n",
        "\n",
        "  def _determine_wedges(self, edges):\n",
        "    wedges = []\n",
        "    for edge in edges:\n",
        "      (a, b) = edge\n",
        "      if a in self.ends_with_dict:\n",
        "        for e in self.ends_with_dict[a]:\n",
        "          wedges.append((e, edge))\n",
        "    return wedges\n"
      ]
    },
    {
      "cell_type": "markdown",
      "metadata": {
        "id": "gfIkdrRKFgcH"
      },
      "source": [
        "## Evaluation"
      ]
    },
    {
      "cell_type": "markdown",
      "metadata": {
        "id": "F8Ic05DQGeNn"
      },
      "source": [
        "First, test the algorithm on a small subgraph containing 1000 edges."
      ]
    },
    {
      "cell_type": "code",
      "execution_count": 88,
      "metadata": {
        "id": "NIS9dye0fOzv"
      },
      "outputs": [],
      "source": [
        "st_test = StreamingTriangles(NetworkEdgeStream(\"web-small.txt\", True), 200, 250)"
      ]
    },
    {
      "cell_type": "code",
      "execution_count": 89,
      "metadata": {
        "colab": {
          "base_uri": "https://localhost:8080/",
          "height": 49,
          "referenced_widgets": [
            "18f6f4b4670349f28ba116800ad679c1",
            "3b75f36d369245c599bdb797dcaf2f75",
            "d0b6b7c2e6804af9acc197b00c44f770",
            "209766b2fd8c4e33974343733b052f90",
            "982ef37459f04d10a1c7574955035ea3",
            "f171bbc4ff46417ca5d7c756465427b7",
            "017f3ff31a41499ab1bc18f6a5fca96b",
            "e6ca0cafa27a440da32e21aca13a7b0f",
            "9e6fd26dfca2427397e090f6fb6cc091",
            "faa554726ac34dfc83df2fbed2d0b401",
            "5d82cf63f13d4397b07de2c27efe9f1c"
          ]
        },
        "id": "_70bAPv8farg",
        "outputId": "672827de-e1bd-47bb-f22d-573afca46eaf"
      },
      "outputs": [
        {
          "name": "stderr",
          "output_type": "stream",
          "text": [
            "100%|██████████| 1000/1000 [00:00<00:00, 22423.56it/s]\n"
          ]
        }
      ],
      "source": [
        "test_results = []\n",
        "for e in st_test.run_return_estimates():\n",
        "  test_results.append(e)"
      ]
    },
    {
      "cell_type": "code",
      "execution_count": 90,
      "metadata": {},
      "outputs": [
        {
          "name": "stdout",
          "output_type": "stream",
          "text": [
            "[(0.0, 0.0), (0.0, 0.0), (0.0, 0.0), (0.0, 0.0), (0.0, 0.0), (0.0, 0.0), (0.0, 0.0), (0.0, 0.0), (0.0, 0.0), (0.0, 0.0), (0.0, 0.0), (0.0, 0.0), (0.0, 0.0), (0.0, 0.0), (0.0, 0.0), (0.0, 0.0), (0.0, 0.0), (0.12, 0.1263437185929648), (0.10799999999999998, 0.12049055276381909), (0.10799999999999998, 0.13097487437185928), (0.10799999999999998, 0.14080974874371857), (0.10799999999999998, 0.15103718592964824), (0.096, 0.1424844221105528), (0.096, 0.1528281407035176), (0.096, 0.16080402010050254), (0.096, 0.17175155778894474), (0.096, 0.18052824120603017), (0.096, 0.1903662311557789), (0.096, 0.20353045226130653), (0.096, 0.21636180904522614), (0.096, 0.22716301507537687), (0.096, 0.24040844221105528), (0.096, 0.25216643216080403), (0.096, 0.2639630150753769), (0.096, 0.27676381909547737), (0.096, 0.2896787939698493), (0.096, 0.3048948743718593), (0.096, 0.3181153768844221), (0.096, 0.3326327638190955), (0.096, 0.34862311557788944), (0.096, 0.3649206030150754), (0.096, 0.3815204020100503), (0.12, 0.6169527638190956), (0.12, 0.6420904522613065), (0.12, 0.6716080402010051), (0.10799999999999998, 0.6239541708542713), (0.10799999999999998, 0.6433851256281408), (0.10799999999999998, 0.662718391959799), (0.084, 0.6165381909547738), (0.07200000000000001, 0.5366834170854271), (0.07200000000000001, 0.5536601005025126), (0.07200000000000001, 0.5706934673366835), (0.07200000000000001, 0.5877726633165828), (0.07200000000000001, 0.5996116582914572), (0.07200000000000001, 0.6165527638190955), (0.07200000000000001, 0.6391766834170854), (0.07200000000000001, 0.6622082412060302), (0.07200000000000001, 0.6856474371859297), (0.06, 0.5859974874371859), (0.06, 0.5951758793969849), (0.06, 0.6151804020100502), (0.06, 0.6297206030150754), (0.06, 0.6501979899497488), (0.06, 0.6710030150753769), (0.06, 0.6921356783919598), (0.06, 0.7135959798994976), (0.06, 0.73538391959799), (0.06, 0.7574994974874373), (0.06, 0.7799427135678392), (0.06, 0.802713567839196), (0.06, 0.8106130653266331), (0.048, 0.6606343718592965), (0.048, 0.6791127638190954), (0.048, 0.6912418090452261), (0.048, 0.7100502512562814), (0.036000000000000004, 0.5416088442211056), (0.036000000000000004, 0.5505925628140703), (0.036000000000000004, 0.5594834170854271), (0.036000000000000004, 0.5739211055276382), (0.036000000000000004, 0.5885427135678392), (0.036000000000000004, 0.6033482412060301), (0.036000000000000004, 0.618337688442211), (0.036000000000000004, 0.633511055276382), (0.036000000000000004, 0.6488683417085427), (0.036000000000000004, 0.6644095477386935), (0.036000000000000004, 0.6801346733668342), (0.036000000000000004, 0.6960437185929648), (0.036000000000000004, 0.7121366834170854), (0.036000000000000004, 0.7284135678391961), (0.036000000000000004, 0.7448743718592965), (0.036000000000000004, 0.7615190954773869), (0.07200000000000001, 1.7353326633165829), (0.07200000000000001, 1.7732623115577888), (0.06, 1.4741467336683418), (0.06, 1.505678391959799), (0.06, 1.5375437185929648), (0.06, 1.5697427135678395), (0.06, 1.6022753768844222), (0.084, 2.5167391959798993), (0.084, 2.532663316582915), (0.084, 2.583569849246231), (0.084, 2.5983859296482414), (0.084, 2.649584422110553), (0.084, 2.663236180904523), (0.084, 2.7146984924623117), (0.084, 2.7666532663316583), (0.084, 2.819100502512563), (0.084, 2.8310110552763814), (0.084, 2.8836798994974875), (0.084, 2.9368341708542713), (0.084, 2.990473869346734), (0.084, 3.044598994974874), (0.084, 3.0992095477386936), (0.084, 3.1543055276381913), (0.084, 3.2098869346733667), (0.084, 3.2186211055276384), (0.084, 3.2743537688442212), (0.084, 3.330564824120603), (0.084, 3.287629145728643), (0.084, 3.343115577889447), (0.084, 3.399066331658292), (0.084, 3.455481407035176), (0.084, 3.5123608040201004), (0.084, 3.5697045226130655), (0.084, 3.6275125628140708), (0.084, 3.6299396984924623), (0.07200000000000001, 3.1609597989949747), (0.07200000000000001, 3.1615356783919597), (0.07200000000000001, 3.2111276381909546), (0.07200000000000001, 3.261105527638191), (0.07200000000000001, 3.3114693467336687), (0.07200000000000001, 3.3622190954773865), (0.07200000000000001, 3.4133547738693464), (0.07200000000000001, 3.464876381909548), (0.07200000000000001, 3.51678391959799), (0.07200000000000001, 3.5690773869346732), (0.07200000000000001, 3.5651668341708542), (0.07200000000000001, 3.6174030150753764), (0.12, 6.116698492462311), (0.12, 7.446030150753769), (0.12, 7.572762814070352), (0.12, 7.680558793969849), (0.12, 7.871323618090453), (0.12, 7.981796984924623), (0.12, 8.093040201005024), (0.12, 8.205053266331658), (0.12, 8.33955376884422), (0.12, 8.497431155778894), (0.12, 8.523398994974874), (0.12, 8.63819095477387), (0.12, 8.822497487437186), (0.12, 8.939738693467337), (0.12, 8.963647236180906), (0.12, 8.985861306532664), (0.12, 9.102939698492461), (0.12, 9.220775879396985), (0.12, 9.339369849246232), (0.12, 9.458721608040202), (0.10799999999999998, 8.666682512562815), (0.10799999999999998, 8.776040201005024), (0.096, 7.8987409045226125), (0.096, 7.997166633165829), (0.096, 8.117563819095476), (0.096, 8.217471356783921), (0.096, 8.317989949748744), (0.096, 8.41911959798995), (0.096, 8.520860301507538), (0.096, 8.64590472361809), (0.096, 8.749138492462311), (0.096, 8.852984924623117), (0.096, 8.957444020100503), (0.096, 9.110088040201004), (0.096, 9.216327236180906), (0.096, 9.323182311557789), (0.096, 9.504522613065326), (0.096, 9.61345608040201), (0.096, 9.723010251256282), (0.096, 9.833185125628141), (0.12, 13.041814070351759), (0.12, 13.187939698492464), (0.12, 13.334879396984924), (0.12, 13.482633165829144), (0.12, 13.664858291457286), (0.10799999999999998, 12.463771658291455), (0.10799999999999998, 12.599615577889447), (0.10799999999999998, 12.736195778894471), (0.10799999999999998, 12.873512261306532), (0.10799999999999998, 13.04353447236181), (0.10799999999999998, 13.182664522613063), (0.10799999999999998, 13.355185929648242), (0.10799999999999998, 13.496136783919596), (0.10799999999999998, 13.637827537688441), (0.10799999999999998, 13.780258190954772), (0.10799999999999998, 13.685130452261307), (0.10799999999999998, 13.792183417085427), (0.10799999999999998, 13.864508140703517), (0.10799999999999998, 13.971239999999996), (0.10799999999999998, 14.113439999999997), (0.10799999999999998, 14.256359999999999), (0.10799999999999998, 14.363819095477385), (0.10799999999999998, 14.507816381909546), (0.10799999999999998, 14.65253185929648), (0.10799999999999998, 14.79796552763819), (0.10799999999999998, 14.944117386934673), (0.10799999999999998, 14.862912060301506), (0.10799999999999998, 15.008269748743718), (0.10799999999999998, 14.921787437185927), (0.132, 19.083989547738692), (0.12, 19.05281809045226), (0.12, 21.09708542713568), (0.12, 21.83542512562814), (0.12, 21.86220703517588), (0.12, 22.023343718592965), (0.12, 22.13856884422111), (0.12, 22.253040201005025), (0.12, 22.413636180904522), (0.12, 22.574324623115576), (0.12, 22.735099497487436), (0.12, 22.9441567839196), (0.12, 23.154170854271356), (0.12, 23.365141708542716), (0.12, 23.57706934673367), (0.12, 23.6899959798995), (0.12, 23.852510552763817), (0.12, 24.015075376884422), (0.12, 24.12635175879397), (0.12, 24.133179899497485), (0.12, 24.346275376884424), (0.12, 24.56030753768844), (0.12, 24.775276381909546), (0.12, 24.99118190954774), (0.12, 25.208024120603014), (0.12, 25.371241206030152), (0.12, 25.534456281407035), (0.12, 25.697663316582915), (0.12, 25.860856281407038), (0.12, 26.080480402010053), (0.12, 26.187175879396985), (0.12, 26.350290452261305), (0.12, 26.571256281407035), (0.12, 26.793144723618095), (0.12, 27.015955778894472), (0.12, 27.23968944723618), (0.12, 27.284840201005025), (0.12, 27.44861809045226), (0.12, 27.673145728643217), (0.12, 27.898587939698494), (0.12, 28.001318592964825), (0.12, 28.1652783919598), (0.12, 28.39195979899497), (0.12, 28.61954974874372), (0.12, 28.84804824120603), (0.12, 29.07745527638191), (0.12, 29.307770854271354), (0.12, 29.53899497487437), (0.12, 29.70526231155779), (0.12, 29.937787939698495), (0.10799999999999998, 27.09388944723618), (0.10799999999999998, 27.304326633165825), (0.096, 24.45829145728643), (0.096, 24.592023316582914), (0.096, 24.78082894472362), (0.096, 24.97035658291457), (0.096, 25.16060623115578), (0.096, 25.35157788944724), (0.096, 25.429493065326632), (0.096, 25.219827135678393), (0.096, 25.409093467336685), (0.096, 25.59906733668342), (0.096, 25.73113567839196), (0.096, 25.863041608040202), (0.096, 26.054264924623116), (0.096, 26.24619256281407), (0.096, 26.37846190954774), (0.096, 26.44974874371859), (0.096, 26.64246030150754), (0.096, 26.83587135678392), (0.096, 27.029981909547743), (0.096, 27.224791959798996), (0.096, 27.420301507537687), (0.096, 27.61651055276382), (0.096, 27.81341909547739), (0.096, 27.946633969849245), (0.096, 28.144485628140707), (0.12, 36.653291457286436), (0.12, 39.623790954773874), (0.12, 40.39806231155779), (0.12, 40.680072361809046), (0.12, 40.96306331658292), (0.12, 41.2470351758794), (0.12, 41.61709447236181), (0.12, 41.90361407035176), (0.12, 42.191116582914574), (0.10799999999999998, 38.30982512562814), (0.10799999999999998, 38.57087939698492), (0.096, 34.51806231155779), (0.096, 34.822608241206034), (0.096, 35.05749869346734), (0.096, 35.29317869346733), (0.096, 35.529648241206026), (0.096, 35.76690733668342), (0.096, 35.858296281407036), (0.096, 36.0961616080402), (0.096, 36.33481326633166), (0.096, 36.050693467336686), (0.096, 36.287478994974876), (0.096, 36.525039597989945), (0.096, 36.76337527638191), (0.096, 37.00248603015076), (0.096, 37.24237185929649), (0.096, 37.4830327638191), (0.096, 37.724468743718596), (0.096, 37.96667979899498), (0.084, 33.29472964824121), (0.084, 33.50713567839196), (0.084, 33.790467537688436), (0.084, 34.004669648241205), (0.084, 34.219548542713575), (0.084, 34.50669487437186), (0.084, 34.723376884422116), (0.084, 34.43329899497488), (0.084, 34.648170854271356), (0.084, 34.86371105527638), (0.084, 34.562952361809046), (0.084, 34.776633165829146), (0.084, 34.99097246231156), (0.084, 35.281196683417086), (0.084, 35.49731376884422), (0.084, 35.71409075376884), (0.084, 36.00814070351759), (0.084, 36.22670251256282), (0.084, 36.4459256281407), (0.084, 36.66581005025126), (0.084, 36.88635577889447), (0.084, 37.107562814070356), (0.084, 37.3294311557789), (0.07200000000000001, 32.25587879396985), (0.07200000000000001, 32.44759236180904), (0.07200000000000001, 32.70917306532664), (0.07200000000000001, 32.90243216080402), (0.07200000000000001, 33.096260502512564), (0.07200000000000001, 33.29065809045226), (0.07200000000000001, 33.4146808040201), (0.132, 63.71115095477387), (0.14400000000000002, 69.90774874371859), (0.14400000000000002, 70.3135983919598), (0.14400000000000002, 70.72062271356785), (0.14400000000000002, 71.12882170854272), (0.14400000000000002, 71.53819537688442), (0.14400000000000002, 72.0964824120603), (0.14400000000000002, 72.50905085427135), (0.14400000000000002, 72.92279638190954), (0.14400000000000002, 73.33771899497488), (0.14400000000000002, 73.75381869346735), (0.14400000000000002, 74.17109547738694), (0.14400000000000002, 74.58954934673368), (0.14400000000000002, 75.00918030150753), (0.14400000000000002, 75.42998834170854), (0.14400000000000002, 75.85197346733668), (0.14400000000000002, 76.43143718592965), (0.14400000000000002, 76.85664603015076), (0.14400000000000002, 77.44107738693467), (0.14400000000000002, 77.86951959798995), (0.14400000000000002, 78.29914371859297), (0.14400000000000002, 78.72994974874372), (0.14400000000000002, 79.16193768844222), (0.14400000000000002, 79.75754653266333), (0.14400000000000002, 80.19278472361809), (0.14400000000000002, 80.6292072361809), (0.14400000000000002, 81.06681407035175), (0.14400000000000002, 81.50560522613065), (0.14400000000000002, 81.94558070351758), (0.14400000000000002, 82.21894673366835), (0.14400000000000002, 82.66038994974873), (0.14400000000000002, 82.93341708542714), (0.14400000000000002, 83.20581467336683), (0.14400000000000002, 82.79192804020101), (0.14400000000000002, 83.23172502512563), (0.14400000000000002, 86.2712176884422), (0.14400000000000002, 86.72707537688443), (0.14400000000000002, 87.18413427135678), (0.132, 81.95209165829145), (0.132, 82.38172180904523), (0.132, 83.30152522613065), (0.132, 83.73595226130652), (0.132, 84.17150914572863), (0.132, 84.60819587939697), (0.132, 85.04601246231157), (0.132, 85.48495889447236), (0.132, 85.75688442211056), (0.132, 86.0282129648241), (0.132, 86.4688176884422), (0.132, 86.91054783919597), (0.132, 87.18178572864322), (0.132, 87.6248944723618), (0.132, 88.0691264321608), (0.132, 88.51448160804019), (0.132, 88.96096), (0.132, 89.23256050251256), (0.132, 89.68040201005026), (0.132, 89.59605467336684), (0.132, 90.04347497487437), (0.132, 90.4920096482412), (0.132, 90.94165869346733), (0.132, 91.21108793969849), (0.132, 91.66206914572864), (0.132, 92.1141625125628), (0.132, 92.56736804020099), (0.132, 93.02168572864322), (0.132, 93.47711557788944), (0.132, 93.93365758793969), (0.132, 94.20365507537687), (0.132, 94.66150934673365), (0.132, 95.1204735678392), (0.132, 95.58054773869347), (0.132, 96.04173185929648), (0.132, 96.31178683417086), (0.132, 96.3879433165829), (0.132, 96.65559376884421), (0.132, 97.11750753768843), (0.132, 96.99268793969848), (0.132, 97.454008040201), (0.132, 97.91642261306532), (0.132, 98.37993165829145), (0.132, 96.84767587939697), (0.132, 97.30396582914572), (0.132, 97.76132814070351), (0.132, 98.21976281407034), (0.132, 98.47580743718592), (0.132, 98.93543718592964), (0.132, 99.39613708542713), (0.132, 99.8579071356784), (0.132, 100.32074733668341), (0.132, 100.5764249246231), (0.132, 101.04044472361808), (0.132, 101.50553246231156), (0.132, 101.9716881407035), (0.132, 102.43891175879395), (0.132, 102.90720331658292), (0.132, 103.37656281407034), (0.132, 103.63198613065325), (0.132, 103.88652502512564), (0.132, 104.1401728643216), (0.132, 104.61086231155778), (0.132, 104.42584673366835), (0.132, 104.89570371859297), (0.132, 105.36661537688441), (0.132, 105.8385817085427), (0.132, 106.31160271356784), (0.132, 106.56180904522613), (0.132, 106.36134703517588), (0.132, 106.60767517587941), (0.132, 106.85304814070352), (0.132, 106.64172542713567), (0.132, 107.11203015075378), (0.132, 107.5833696482412), (0.132, 108.05574391959799), (0.132, 108.52915296482412), (0.132, 109.00359678391959), (0.132, 107.13977889447236), (0.132, 107.60611035175877), (0.132, 108.07345447236182), (0.132, 108.30482040201005), (0.132, 108.77316502512562), (0.132, 109.2425201005025), (0.132, 109.7128856281407), (0.132, 110.1842616080402), (0.132, 110.41451095477385), (0.132, 110.886871959799), (0.132, 110.62760804020098), (0.132, 111.09886462311556), (0.132, 111.57112281407034), (0.132, 112.04438261306532), (0.132, 112.51864402010048), (0.132, 112.49503768844221), (0.12, 104.74870351758794), (0.12, 105.1892864321608), (0.12, 105.63079396984925), (0.12, 106.53441407035174), (0.12, 106.97969849246232), (0.12, 107.42591155778895), (0.12, 107.87305326633168), (0.12, 108.55558492462312), (0.12, 109.00555577889448), (0.12, 109.69286432160804), (0.12, 110.14567236180903), (0.12, 110.59941306532664), (0.12, 111.0540864321608), (0.12, 111.50969246231155), (0.12, 111.48361809045227), (0.12, 111.9391175879397), (0.12, 112.39554572864321), (0.12, 112.85290251256282), (0.12, 113.3111879396985), (0.12, 113.77040201005025), (0.12, 114.2305447236181), (0.12, 114.69161608040201), (0.12, 115.65211658291456), (0.12, 116.11704924623116), (0.12, 116.58291457286431), (0.12, 117.04971256281407), (0.12, 117.51744321608041), (0.12, 117.98610653266331), (0.12, 118.45570251256281), (0.12, 118.92623115577891), (0.12, 119.39769246231157), (0.12, 119.87008643216082), (0.12, 120.60277386934672), (0.12, 121.07805527638192), (0.12, 121.55427135678391), (0.12, 122.03142211055275), (0.12, 123.03643015075376), (0.12, 122.45954472361808), (0.12, 122.9374351758794), (0.12, 123.41625628140703), (0.12, 123.896008040201), (0.12, 124.3766904522613), (0.12, 124.85830351758796), (0.12, 122.63370150753768), (0.12, 123.10673366834172), (0.12, 123.0350663316583), (0.10799999999999998, 111.15704080402008), (0.10799999999999998, 111.58333778894472), (0.10799999999999998, 112.01045065326632), (0.10799999999999998, 112.43837939698493), (0.10799999999999998, 112.86712402010048), (0.10799999999999998, 112.79426020100502), (0.10799999999999998, 113.22272804020099), (0.10799999999999998, 113.6520081407035), (0.10799999999999998, 114.08210050251255), (0.10799999999999998, 114.51300512562815), (0.096, 102.4006432160804), (0.096, 102.78596984924623), (0.096, 103.17202010050252), (0.096, 103.55879396984925), (0.096, 103.94629145728643), (0.096, 104.33451256281408), (0.096, 104.72345728643216), (0.096, 105.11312562814071), (0.096, 105.50351758793971), (0.096, 106.12995457286432), (0.096, 106.52266452261307), (0.096, 107.3902287437186), (0.096, 108.02407557788945), (0.096, 108.42158793969851), (0.096, 108.8198303517588), (0.096, 106.81310231155778), (0.096, 107.20400080402011), (0.084, 94.14616160804022), (0.084, 94.4894472361809), (0.084, 94.8333575879397), (0.084, 95.17789266331658), (0.084, 95.52305246231157), (0.084, 95.86883698492463), (0.084, 96.43194723618092), (0.084, 96.34479758793971), (0.084, 96.69167326633166), (0.084, 97.03917226130655), (0.084, 97.38729457286433), (0.084, 97.73604020100504), (0.084, 98.30682090452261), (0.084, 98.6576032160804), (0.084, 98.78601698492461), (0.084, 99.13725587939699), (0.084, 99.48911809045228), (0.084, 99.84160361809046), (0.084, 100.19471246231157), (0.084, 100.54844462311557), (0.084, 100.90280010050253), (0.084, 101.25777889447237), (0.084, 101.61338100502513), (0.084, 101.9696064321608), (0.084, 102.55744040201004), (0.084, 102.91571939698493), (0.084, 102.34422110552764), (0.084, 102.70051055276383), (0.084, 103.05741909547739), (0.084, 103.41494673366834), (0.084, 103.77309346733668), (0.084, 104.13185929648242), (0.084, 104.49124422110553), (0.084, 104.85124824120604), (0.084, 105.21187135678392), (0.084, 105.57311356783919), (0.084, 105.93497487437187), (0.084, 106.29745527638191), (0.084, 106.66055477386936), (0.084, 107.02427336683417), (0.084, 107.3886110552764), (0.084, 107.9984623115578), (0.084, 108.36486904522614), (0.084, 108.97845386934674), (0.084, 109.34693527638191), (0.084, 109.71603859296482), (0.084, 110.33482663316583), (0.084, 110.70601165829146), (0.084, 111.07781999999999), (0.084, 110.94709025125628), (0.084, 111.31846100502513), (0.084, 111.69045226130652), (0.084, 109.52195145728645), (0.084, 110.14167798994974), (0.084, 110.50790110552762), (0.084, 110.87473206030151), (0.084, 111.24217085427136), (0.084, 111.61021748743718), (0.084, 111.978871959799), (0.084, 112.34813427135678), (0.084, 112.71800442211055), (0.084, 113.08848241206032), (0.084, 113.45956824120601), (0.084, 113.83126190954773), (0.084, 114.20356341708543), (0.084, 114.5764727638191), (0.084, 114.94998994974875), (0.084, 115.32411497487438), (0.084, 115.69884783919598), (0.084, 116.07418854271356), (0.084, 115.911016080402), (0.084, 116.55626130653266), (0.084, 116.93255246231156), (0.084, 117.30945005025126), (0.084, 117.68695407035177), (0.084, 118.06506452261308), (0.084, 118.44378140703517), (0.084, 118.8231047236181), (0.084, 119.20303447236182), (0.084, 119.58357065326635), (0.084, 119.96471326633167), (0.084, 120.3464623115578), (0.084, 120.72881778894472), (0.084, 121.11177969849244), (0.084, 121.495348040201), (0.084, 121.87952281407034), (0.084, 122.26430402010052), (0.084, 122.64969165829147), (0.084, 123.03568572864322), (0.084, 123.42228623115578), (0.084, 123.80949316582915), (0.084, 124.19730653266333), (0.084, 124.58572633165828), (0.084, 124.97475256281407), (0.084, 125.36438522613066), (0.084, 125.75462432160803), (0.084, 126.14546984924624), (0.084, 126.53692180904523), (0.084, 126.92898020100502), (0.084, 127.32164502512562), (0.084, 127.71491628140706), (0.084, 128.10879396984924), (0.084, 127.9069751758794), (0.084, 128.30023236180907), (0.084, 128.69409316582917), (0.084, 129.38946331658292), (0.084, 129.78545226130652), (0.084, 130.18204623115577), (0.084, 130.57924522613067), (0.084, 130.97704924623116), (0.084, 131.3754582914573), (0.084, 131.16156783919598), (0.084, 131.55932824120603), (0.084, 131.95769085427136), (0.084, 132.35665567839197), (0.084, 132.75622271356784), (0.084, 133.156391959799), (0.084, 133.8692128643216), (0.084, 134.27152432160804), (0.084, 134.67443939698492), (0.084, 135.07795809045226), (0.084, 135.48208040201007), (0.084, 135.8868063316583), (0.084, 136.292135879397), (0.084, 136.69806904522613), (0.084, 133.9086942713568), (0.084, 134.30634422110552), (0.084, 135.0260743718593), (0.084, 135.7482977889447), (0.084, 136.14962291457286), (0.084, 136.55154040201006), (0.084, 136.9540502512563), (0.084, 137.35715246231157), (0.084, 138.08806994974876), (0.084, 138.49331718592964), (0.084, 138.89915819095478), (0.084, 139.30559296482411), (0.084, 139.7126215075377), (0.084, 140.12024381909546), (0.084, 140.52845989949748), (0.084, 140.93726974874372), (0.084, 141.68161809045228), (0.084, 142.0925870351759), (0.084, 142.5041511557789), (0.084, 143.25417407035175), (0.084, 143.66790432160806), (0.084, 144.0822311557789), (0.084, 144.49715457286433), (0.084, 144.91267457286432), (0.084, 145.32879115577887), (0.084, 145.74550432160802), (0.084, 146.16281407035177), (0.084, 146.58072040201006), (0.084, 146.9992233165829), (0.084, 147.41832281407036), (0.084, 147.83801889447236), (0.084, 148.25831155778894), (0.084, 148.6792008040201), (0.084, 149.10068663316585), (0.084, 149.52276904522614), (0.084, 149.945448040201), (0.084, 150.36872361809048), (0.084, 150.79259577889445), (0.084, 151.57370854271358), (0.084, 152.35742291457288), (0.084, 152.7850926633166), (0.084, 153.21336180904524), (0.084, 153.6422303517588), (0.084, 154.0716982914573), (0.084, 154.5017656281407), (0.084, 155.29612351758792), (0.084, 155.72840201005027), (0.084, 156.52699859296484), (0.084, 156.96149386934675), (0.084, 157.39659135678392), (0.084, 157.8322910552764), (0.084, 154.57072864321609), (0.084, 154.9974247236181), (0.07200000000000001, 133.2211790954774), (0.07200000000000001, 133.58792683417084), (0.07200000000000001, 133.95517869346733), (0.07200000000000001, 134.32293467336683), (0.07200000000000001, 135.65787798994975), (0.07200000000000001, 136.02928884422113), (0.07200000000000001, 136.40120743718592), (0.07200000000000001, 145.8702174874372), (0.07200000000000001, 146.26795477386932), (0.07200000000000001, 146.66623356783919), (0.07200000000000001, 147.72013206030152), (0.07200000000000001, 148.1212727638191), (0.07200000000000001, 148.52295738693468), (0.07200000000000001, 148.92518592964822), (0.07200000000000001, 149.3279583919598), (0.07200000000000001, 149.73127477386936), (0.07200000000000001, 150.13513507537687), (0.07200000000000001, 150.53953929648242), (0.07200000000000001, 150.94448743718593), (0.07200000000000001, 151.34997949748745), (0.07200000000000001, 152.76547899497487), (0.07200000000000001, 153.17476341708542), (0.07200000000000001, 153.58459537688444), (0.07200000000000001, 153.99497487437188), (0.07200000000000001, 154.40590190954774), (0.07200000000000001, 154.81737648241204), (0.07200000000000001, 154.88748361809047), (0.07200000000000001, 155.29914452261306), (0.07200000000000001, 155.71135175879397), (0.07200000000000001, 156.12410532663316), (0.07200000000000001, 156.53740522613066), (0.07200000000000001, 156.95125145728645), (0.084, 183.59325135678392), (0.084, 184.07734673366835), (0.084, 184.56207949748745), (0.084, 185.0474496482412), (0.096, 212.0382367839196), (0.096, 212.5944024120603), (0.10799999999999998, 239.79520854271357), (0.10799999999999998, 240.4225338693467), (0.10799999999999998, 241.05067869346732), (0.10799999999999998, 241.67964301507536), (0.10799999999999998, 242.30942683417084), (0.10799999999999998, 245.08519597989948), (0.10799999999999998, 247.3352502512562), (0.10799999999999998, 247.97726231155775), (0.10799999999999998, 251.86297748743715), (0.10799999999999998, 252.51504964824116), (0.10799999999999998, 253.1679648241206), (0.10799999999999998, 253.82172301507538), (0.10799999999999998, 256.11458381909546), (0.10799999999999998, 258.41672683417084), (0.10799999999999998, 259.081464120603), (0.10799999999999998, 259.7470552763819), (0.10799999999999998, 260.41350030150755), (0.10799999999999998, 256.6557009045226), (0.10799999999999998, 257.3125290452261), (0.10799999999999998, 257.9701965829146), (0.10799999999999998, 258.62870351758795), (0.10799999999999998, 263.1997230150754), (0.10799999999999998, 263.86986844221104), (0.10799999999999998, 264.5408659296482), (0.10799999999999998, 265.2127154773869), (0.10799999999999998, 265.88541708542715), (0.10799999999999998, 268.25679859296486), (0.10799999999999998, 268.9354998994974), (0.10799999999999998, 269.61505869346735), (0.10799999999999998, 270.29547497487437), (0.10799999999999998, 270.9767487437186), (0.10799999999999998, 271.65888), (0.10799999999999998, 272.3418687437186), (0.10799999999999998, 273.02571497487435), (0.10799999999999998, 273.7104186934673), (0.10799999999999998, 274.3959798994975), (0.10799999999999998, 278.5644542713568), (0.10799999999999998, 279.26043015075373), (0.10799999999999998, 279.9572743718593), (0.10799999999999998, 284.16317427135675), (0.10799999999999998, 284.8704874371859), (0.10799999999999998, 285.5786797989949), (0.10799999999999998, 286.28775135678393), (0.10799999999999998, 286.9977021105527), (0.10799999999999998, 291.8524821105528), (0.10799999999999998, 292.57444221105527), (0.10799999999999998, 293.2972941708543), (0.10799999999999998, 294.0210379899497), (0.10799999999999998, 294.7456736683417), (0.10799999999999998, 295.4712012060301), (0.10799999999999998, 296.197620603015), (0.10799999999999998, 296.92493185929646), (0.10799999999999998, 297.6531349748743), (0.10799999999999998, 298.3822299497487), (0.10799999999999998, 299.11221678391956), (0.10799999999999998, 299.8430954773869), (0.10799999999999998, 300.5748660301507), (0.10799999999999998, 301.3075284422111), (0.10799999999999998, 302.0410827135678), (0.10799999999999998, 302.7755288442211), (0.10799999999999998, 303.51086683417077), (0.10799999999999998, 304.24709668341706), (0.10799999999999998, 309.3146231155779), (0.10799999999999998, 310.0631155778894), (0.10799999999999998, 310.81251256281405), (0.10799999999999998, 311.56281407035175), (0.10799999999999998, 312.31402010050255), (0.10799999999999998, 313.0661306532663), (0.10799999999999998, 313.81914572864315), (0.10799999999999998, 314.5730653266331), (0.10799999999999998, 314.6972336683417), (0.10799999999999998, 315.4514508542713), (0.10799999999999998, 316.2065707537688), (0.10799999999999998, 316.9625933668342), (0.10799999999999998, 317.7195186934673), (0.10799999999999998, 318.47734673366836), (0.10799999999999998, 319.2360774874371), (0.10799999999999998, 319.99571095477387), (0.096, 285.116664120603), (0.096, 285.79349869346737), (0.096, 286.47113567839193), (0.096, 287.1495750753769), (0.096, 287.8288168844221), (0.096, 288.50886110552767), (0.096, 289.18970773869347), (0.096, 289.8713567839196), (0.096, 290.553808241206), (0.096, 291.23706211055276), (0.096, 291.92111839195985), (0.096, 294.3651312562814), (0.096, 295.0549145728643), (0.096, 296.33463959798996), (0.096, 297.0274146733669), (0.096, 297.7209985929648), (0.096, 298.4153913567839), (0.096, 299.1105929648241), (0.096, 299.8066034170854), (0.096, 300.50342271356783), (0.096, 301.2010508542714), (0.096, 301.899487839196), (0.10799999999999998, 340.4235753768844), (0.10799999999999998, 346.63795417085424), (0.10799999999999998, 355.59800231155776), (0.10799999999999998, 356.41877065326634), (0.10799999999999998, 357.2404851256281), (0.10799999999999998, 357.378512562814), (0.10799999999999998, 358.20054452261303), (0.10799999999999998, 358.335736281407), (0.10799999999999998, 355.71126391959797), (0.10799999999999998, 356.5266476381909), (0.10799999999999998, 357.34296482412054), (0.10799999999999998, 358.1602154773869), (0.10799999999999998, 358.97839959798995), (0.10799999999999998, 359.79751718592956), (0.10799999999999998, 360.617568241206), (0.10799999999999998, 361.4385527638191), (0.10799999999999998, 362.2604707537688), (0.10799999999999998, 363.08332221105525), (0.10799999999999998, 363.9071071356783), (0.10799999999999998, 364.73182552763814), (0.10799999999999998, 365.55747738693464), (0.10799999999999998, 366.3840627135678), (0.10799999999999998, 367.21158150753763), (0.10799999999999998, 368.0400337688442), (0.10799999999999998, 368.8694194974874), (0.10799999999999998, 370.41621105527634), (0.10799999999999998, 371.2490746733668), (0.10799999999999998, 372.0828735678392), (0.10799999999999998, 372.91760773869345), (0.10799999999999998, 373.7532771859297), (0.10799999999999998, 374.5898819095477), (0.10799999999999998, 375.42742190954766), (0.10799999999999998, 376.26589718592965), (0.10799999999999998, 377.10530773869345), (0.10799999999999998, 377.94565356783914), (0.10799999999999998, 378.7869346733668), (0.10799999999999998, 379.6291510552764), (0.10799999999999998, 380.47230271356784), (0.10799999999999998, 381.31638964824117), (0.10799999999999998, 382.16141185929644), (0.10799999999999998, 383.00736934673364), (0.10799999999999998, 383.8542621105527), (0.10799999999999998, 384.7020901507537), (0.10799999999999998, 385.55085346733665), (0.10799999999999998, 386.4005520603015), (0.10799999999999998, 387.2511859296482), (0.10799999999999998, 388.1027550753769), (0.10799999999999998, 388.9552594974874), (0.10799999999999998, 389.8086991959799), (0.10799999999999998, 390.66307417085426), (0.10799999999999998, 391.51838442211056), (0.10799999999999998, 392.37462994974874), (0.10799999999999998, 393.2318107537688), (0.10799999999999998, 394.08992683417085), (0.10799999999999998, 394.94897819095473), (0.10799999999999998, 395.80896482412055), (0.10799999999999998, 396.6698867336683), (0.10799999999999998, 397.531743919598), (0.10799999999999998, 399.16512542713565), (0.10799999999999998, 400.03052381909544), (0.10799999999999998, 400.8968592964824), (0.10799999999999998, 401.7641318592964), (0.10799999999999998, 402.63234150753766), (0.10799999999999998, 403.50148824120595), (0.10799999999999998, 404.3715720603015), (0.10799999999999998, 405.24259296482404), (0.10799999999999998, 406.11455095477385), (0.10799999999999998, 406.9874460301507), (0.10799999999999998, 407.86127819095475), (0.10799999999999998, 408.7360474371859), (0.10799999999999998, 409.6117537688442), (0.10799999999999998, 410.4883971859296), (0.10799999999999998, 412.16012050251254), (0.10799999999999998, 413.0403340703518), (0.10799999999999998, 413.9214865326633), (0.10799999999999998, 414.8035778894472), (0.10799999999999998, 416.4875457286432), (0.10799999999999998, 417.37321809045227), (0.10799999999999998, 418.25983115577884), (0.10799999999999998, 419.1473849246231), (0.10799999999999998, 420.0358793969849), (0.10799999999999998, 420.9253145728643), (0.10799999999999998, 421.81569045226126), (0.10799999999999998, 422.7070070351758), (0.10799999999999998, 423.599264321608), (0.10799999999999998, 424.49246231155774), (0.10799999999999998, 425.3866010050251), (0.10799999999999998, 426.28168040200995), (0.10799999999999998, 427.17770050251255), (0.10799999999999998, 428.0746613065326), (0.10799999999999998, 428.9725628140703), (0.10799999999999998, 429.87140502512557), (0.10799999999999998, 431.5995940703517), (0.10799999999999998, 432.50204984924625), (0.10799999999999998, 433.40544814070347), (0.10799999999999998, 434.3097889447236), (0.10799999999999998, 434.3797266331657), (0.10799999999999998, 435.28421306532664), (0.10799999999999998, 436.18964020100503), (0.10799999999999998, 437.09600804020096), (0.10799999999999998, 438.0033165829146), (0.10799999999999998, 438.9115658291456), (0.10799999999999998, 439.82075577889447), (0.10799999999999998, 440.73088643216073), (0.10799999999999998, 441.6419577889447), (0.10799999999999998, 442.5539698492462), (0.10799999999999998, 443.4669226130653), (0.10799999999999998, 444.3808160804019), (0.10799999999999998, 445.29565025125623), (0.10799999999999998, 446.21142512562807), (0.10799999999999998, 447.1281407035176), (0.10799999999999998, 448.04579698492455), (0.10799999999999998, 448.9643939698492), (0.10799999999999998, 449.88393165829143), (0.10799999999999998, 450.8044100502512), (0.10799999999999998, 451.72582914572854), (0.10799999999999998, 452.64818894472364), (0.10799999999999998, 454.44374231155774), (0.10799999999999998, 455.36976090452254), (0.10799999999999998, 456.29672201005025), (0.10799999999999998, 457.2246256281407), (0.10799999999999998, 458.15347175879396), (0.10799999999999998, 459.08326040201), (0.10799999999999998, 460.01399155778887), (0.10799999999999998, 460.94566522613064), (0.10799999999999998, 458.33219095477386), (0.10799999999999998, 459.2585822110552), (0.10799999999999998, 460.1859087437185), (0.10799999999999998, 461.11417055276377), (0.10799999999999998, 462.0433676381909), (0.10799999999999998, 462.97349999999994), (0.10799999999999998, 463.904567638191), (0.10799999999999998, 464.8365705527638), (0.10799999999999998, 465.7695087437186), (0.10799999999999998, 466.70338221105527), (0.10799999999999998, 465.82914572864325)]\n",
            "465.82914572864325\n"
          ]
        }
      ],
      "source": [
        "print(test_results)\n",
        "print(test_results[-1][1])"
      ]
    },
    {
      "cell_type": "markdown",
      "metadata": {
        "id": "zrwNdWP4GlqI"
      },
      "source": [
        "To assess the result, we need to know the actual number of triangles, which we obtain by counting all possible triangles."
      ]
    },
    {
      "cell_type": "code",
      "execution_count": 80,
      "metadata": {
        "id": "PnI0RymhxPxm"
      },
      "outputs": [],
      "source": [
        "all_edges = list(NetworkEdgeStream(\"web-small.txt\", False).get_edges())\n",
        "n = max(max(a, b) for a, b in all_edges) # Get size of matrix\n",
        "graph_matrix = np.zeros((n+1, n+1))\n",
        "for a, b in all_edges:\n",
        "  graph_matrix[a][b] = 1"
      ]
    },
    {
      "cell_type": "code",
      "execution_count": 59,
      "metadata": {
        "id": "ws49sgtKwapn"
      },
      "outputs": [],
      "source": [
        "# Adapted from: https://www.geeksforgeeks.org/number-of-triangles-in-directed-and-undirected-graphs/\n",
        "def countTriangle(g, isDirected):\n",
        "  nodes = len(g)\n",
        "  count_Triangle = 0\n",
        "\n",
        "  # Consider every possible\n",
        "  # triplet of edges in graph\n",
        "  for i in tqdm(list(range(nodes))):\n",
        "    for j in range(nodes):\n",
        "      for k in range(nodes):\n",
        "        # check the triplet\n",
        "        # if it satisfies the condition\n",
        "        if(i != j and i != k and j != k and\n",
        "            g[i][j] and g[j][k] and g[k][i]):\n",
        "          count_Triangle += 1\n",
        "\n",
        "  return count_Triangle\n",
        "  # If graph is directed , division is done by 3\n",
        "  # else division by 6 is done\n",
        "  # if isDirected:\n",
        "    # return count_Triangle//3\n",
        "  # else:\n",
        "    # return count_Triangle//6"
      ]
    },
    {
      "cell_type": "code",
      "execution_count": 60,
      "metadata": {
        "colab": {
          "base_uri": "https://localhost:8080/",
          "height": 67,
          "referenced_widgets": [
            "d6e9bf535e7e402f8933702bbf973595",
            "abe7af4ed5ca42c0863c4d23740d4b7c",
            "7d20b3b57f8040f7bae8911468678b52",
            "bbdb296ec3214f5b8f9faf7d3e248dc0",
            "19bb0a97b71e4f79aa6b567f8126f621",
            "e8df70250228461b8e371b9b56c74961",
            "455433d3036a4dfd980d952dd56cca5c",
            "d9912e19f5b74772a1a482a03795b6d8",
            "cbf73d2161f04de8b4fd97061724c185",
            "94967fa65c3d4210b41486e20f782d0e",
            "ea2f22cfd0ae484dba5ed68cb23d8df8"
          ]
        },
        "id": "VKBVMZnrycm7",
        "outputId": "5bd243e7-ca06-44fc-f5e7-3bdff65e6d77"
      },
      "outputs": [
        {
          "name": "stderr",
          "output_type": "stream",
          "text": [
            "100%|██████████| 775/775 [00:47<00:00, 16.21it/s]"
          ]
        },
        {
          "name": "stdout",
          "output_type": "stream",
          "text": [
            "The Number of triangles in directed graph : 408\n"
          ]
        },
        {
          "name": "stderr",
          "output_type": "stream",
          "text": [
            "\n"
          ]
        }
      ],
      "source": [
        "print(\"The Number of triangles in directed graph : %d\" %\n",
        "      countTriangle(graph_matrix, True))"
      ]
    },
    {
      "cell_type": "markdown",
      "metadata": {
        "id": "OgpkB8LXG5jj"
      },
      "source": [
        "We see in the graph below that the estimate is multiple times larger than the actual number of triangles, however considering that it only saves a fraction of all edges, it looks promising. The paper mentions in section 1.2 that for graphs where the number of triangles is small, the algorithm \"does not provide good guarantees\", which is confirmed by the relatively large deviation."
      ]
    },
    {
      "cell_type": "code",
      "execution_count": 91,
      "metadata": {
        "colab": {
          "base_uri": "https://localhost:8080/"
        },
        "id": "HsVGvqWBDn8s",
        "outputId": "4326c033-511c-47c2-87f5-85f26a78aee7"
      },
      "outputs": [
        {
          "name": "stdout",
          "output_type": "stream",
          "text": [
            "Median:\t106\n",
            "Mean:\t137\n",
            "Max:\t466\n",
            "Final:\t466\n",
            "Actual:\t408\n"
          ]
        }
      ],
      "source": [
        "triangle_estimates_test = np.array(list(map(lambda x:x[1], test_results)))\n",
        "median_count_test, mean_count_test, max_count_test = np.median(triangle_estimates_test), np.mean(triangle_estimates_test), np.max(triangle_estimates_test)\n",
        "print(f\"Median:\\t{int(median_count_test)}\\nMean:\\t{int(mean_count_test)}\\nMax:\\t{int(max_count_test)}\\nFinal:\\t{round(test_results[-1][1])}\\nActual:\\t{408}\")"
      ]
    },
    {
      "cell_type": "code",
      "execution_count": 92,
      "metadata": {
        "colab": {
          "base_uri": "https://localhost:8080/",
          "height": 448
        },
        "id": "QLj3UidjB7_h",
        "outputId": "220e3b99-c51a-4fa6-8563-84f08ec411de"
      },
      "outputs": [
        {
          "data": {
            "text/plain": [
              "[<matplotlib.lines.Line2D at 0x7f90c99cf6d0>]"
            ]
          },
          "execution_count": 92,
          "metadata": {},
          "output_type": "execute_result"
        },
        {
          "data": {
            "image/png": "[encoded data removed]",
            "text/plain": [
              "<Figure size 640x480 with 1 Axes>"
            ]
          },
          "metadata": {},
          "output_type": "display_data"
        }
      ],
      "source": [
        "plt.plot(triangle_estimates_test)"
      ]
    },
    {
      "cell_type": "markdown",
      "metadata": {
        "id": "v0hRutzhF1S7"
      },
      "source": [
        "---"
      ]
    },
    {
      "cell_type": "markdown",
      "metadata": {
        "id": "KToOMByOIXeC"
      },
      "source": [
        "We now use the whole dataset of almost 1.5 million edges."
      ]
    },
    {
      "cell_type": "code",
      "execution_count": 93,
      "metadata": {
        "id": "8oZAfGFCsu6Q"
      },
      "outputs": [],
      "source": [
        "st = StreamingTriangles(NetworkEdgeStream(\"web-NotreDame.txt\", True), 1225, 1500)"
      ]
    },
    {
      "cell_type": "code",
      "execution_count": 94,
      "metadata": {
        "colab": {
          "base_uri": "https://localhost:8080/",
          "height": 49,
          "referenced_widgets": [
            "1b4e6b2519004a09bc7f85a90c2e2167",
            "bc6b3356feec4636960def19588e15cd",
            "76fa0ee120dd48d29d3491d34e9f96a8",
            "213d79fdb16f458083e16a40bd2b6fbb",
            "7f7828ef5d744ede9a9d7aac3256efe2",
            "812474fcb81c42a4ba3d70c4ff9a9849",
            "4ccc925dc85c4431893bd0ddd8dacf33",
            "7938e5a48a9f4257b3bd4477522e8416",
            "3dd2ca8311b1484daed3565261b55a29",
            "d00d3483776047ff996c05ce45a3ac42",
            "6a3f0cd0db5444b48c7a9001fea67a5c"
          ]
        },
        "id": "5mGbByBMs3nF",
        "outputId": "ad6e1894-adb2-4520-88c5-13618cb497b8"
      },
      "outputs": [
        {
          "name": "stderr",
          "output_type": "stream",
          "text": [
            "100%|██████████| 1497138/1497138 [03:16<00:00, 7604.61it/s]\n"
          ]
        }
      ],
      "source": [
        "results = []\n",
        "for e in st.run_return_estimates():\n",
        "  results.append(e)"
      ]
    },
    {
      "cell_type": "markdown",
      "metadata": {
        "id": "x0WYD4geIgnf"
      },
      "source": [
        "The estimated count towards the end is around 3 million compared to the actual number of almost 9 million. If the provided number contains duplicates, the estimate will be extremely accurate, as then we would need to divide by three and get our estimate, but even if it is correct, then the result is still very good when we take into consideration the fact that we only ever saved $\\sqrt{n}$ edges, where $n$ is the number of edges in the dataset, and just a few more wedges, which results in a space saving of around 99.71%."
      ]
    },
    {
      "cell_type": "code",
      "execution_count": 95,
      "metadata": {
        "colab": {
          "base_uri": "https://localhost:8080/"
        },
        "id": "R2tZLBkHCLlv",
        "outputId": "b84570c2-8df0-46c1-89b7-049a4c908d5b"
      },
      "outputs": [
        {
          "name": "stdout",
          "output_type": "stream",
          "text": [
            "Median:\t5196180\n",
            "Mean:\t11348684\n",
            "Max:\t35057991\n",
            "Final:\t35027827\n",
            "Actual:\t8910005\n"
          ]
        }
      ],
      "source": [
        "triangle_estimates = np.array(list(map(lambda x:x[1], results)))\n",
        "median_count, mean_count, max_count = np.median(triangle_estimates), np.mean(triangle_estimates), np.max(triangle_estimates)\n",
        "print(f\"Median:\\t{int(median_count)}\\nMean:\\t{int(mean_count)}\\nMax:\\t{int(max_count)}\\nFinal:\\t{round(results[-1][1])}\\nActual:\\t{8910005}\")"
      ]
    },
    {
      "cell_type": "code",
      "execution_count": 96,
      "metadata": {
        "colab": {
          "base_uri": "https://localhost:8080/",
          "height": 481
        },
        "id": "e6-e_qNdEhz1",
        "outputId": "7a92ffaa-fc97-4043-d963-12c94e5fb74f"
      },
      "outputs": [
        {
          "data": {
            "text/plain": [
              "[<matplotlib.lines.Line2D at 0x7f90c9c5bfd0>]"
            ]
          },
          "execution_count": 96,
          "metadata": {},
          "output_type": "execute_result"
        },
        {
          "data": {
            "image/png": "[encoded data removed]",
            "text/plain": [
              "<Figure size 640x480 with 1 Axes>"
            ]
          },
          "metadata": {},
          "output_type": "display_data"
        }
      ],
      "source": [
        "plt.plot(triangle_estimates)"
      ]
    }
  ],
  "metadata": {
    "colab": {
      "provenance": []
    },
    "kernelspec": {
      "display_name": "Python 3",
      "name": "python3"
    },
    "language_info": {
      "codemirror_mode": {
        "name": "ipython",
        "version": 3
      },
      "file_extension": ".py",
      "mimetype": "text/x-python",
      "name": "python",
      "nbconvert_exporter": "python",
      "pygments_lexer": "ipython3",
      "version": "3.10.12"
    },
    "widgets": {
      "application/vnd.jupyter.widget-state+json": {
        "017f3ff31a41499ab1bc18f6a5fca96b": {
          "model_module": "@jupyter-widgets/controls",
          "model_module_version": "1.5.0",
          "model_name": "DescriptionStyleModel",
          "state": {
            "_model_module": "@jupyter-widgets/controls",
            "_model_module_version": "1.5.0",
            "_model_name": "DescriptionStyleModel",
            "_view_count": null,
            "_view_module": "@jupyter-widgets/base",
            "_view_module_version": "1.2.0",
            "_view_name": "StyleView",
            "description_width": ""
          }
        },
        "18f6f4b4670349f28ba116800ad679c1": {
          "model_module": "@jupyter-widgets/controls",
          "model_module_version": "1.5.0",
          "model_name": "HBoxModel",
          "state": {
            "_dom_classes": [],
            "_model_module": "@jupyter-widgets/controls",
            "_model_module_version": "1.5.0",
            "_model_name": "HBoxModel",
            "_view_count": null,
            "_view_module": "@jupyter-widgets/controls",
            "_view_module_version": "1.5.0",
            "_view_name": "HBoxView",
            "box_style": "",
            "children": [
              "IPY_MODEL_3b75f36d369245c599bdb797dcaf2f75",
              "IPY_MODEL_d0b6b7c2e6804af9acc197b00c44f770",
              "IPY_MODEL_209766b2fd8c4e33974343733b052f90"
            ],
            "layout": "IPY_MODEL_982ef37459f04d10a1c7574955035ea3"
          }
        },
        "19bb0a97b71e4f79aa6b567f8126f621": {
          "model_module": "@jupyter-widgets/base",
          "model_module_version": "1.2.0",
          "model_name": "LayoutModel",
          "state": {
            "_model_module": "@jupyter-widgets/base",
            "_model_module_version": "1.2.0",
            "_model_name": "LayoutModel",
            "_view_count": null,
            "_view_module": "@jupyter-widgets/base",
            "_view_module_version": "1.2.0",
            "_view_name": "LayoutView",
            "align_content": null,
            "align_items": null,
            "align_self": null,
            "border": null,
            "bottom": null,
            "display": null,
            "flex": null,
            "flex_flow": null,
            "grid_area": null,
            "grid_auto_columns": null,
            "grid_auto_flow": null,
            "grid_auto_rows": null,
            "grid_column": null,
            "grid_gap": null,
            "grid_row": null,
            "grid_template_areas": null,
            "grid_template_columns": null,
            "grid_template_rows": null,
            "height": null,
            "justify_content": null,
            "justify_items": null,
            "left": null,
            "margin": null,
            "max_height": null,
            "max_width": null,
            "min_height": null,
            "min_width": null,
            "object_fit": null,
            "object_position": null,
            "order": null,
            "overflow": null,
            "overflow_x": null,
            "overflow_y": null,
            "padding": null,
            "right": null,
            "top": null,
            "visibility": null,
            "width": null
          }
        },
        "1b4e6b2519004a09bc7f85a90c2e2167": {
          "model_module": "@jupyter-widgets/controls",
          "model_module_version": "1.5.0",
          "model_name": "HBoxModel",
          "state": {
            "_dom_classes": [],
            "_model_module": "@jupyter-widgets/controls",
            "_model_module_version": "1.5.0",
            "_model_name": "HBoxModel",
            "_view_count": null,
            "_view_module": "@jupyter-widgets/controls",
            "_view_module_version": "1.5.0",
            "_view_name": "HBoxView",
            "box_style": "",
            "children": [
              "IPY_MODEL_bc6b3356feec4636960def19588e15cd",
              "IPY_MODEL_76fa0ee120dd48d29d3491d34e9f96a8",
              "IPY_MODEL_213d79fdb16f458083e16a40bd2b6fbb"
            ],
            "layout": "IPY_MODEL_7f7828ef5d744ede9a9d7aac3256efe2"
          }
        },
        "209766b2fd8c4e33974343733b052f90": {
          "model_module": "@jupyter-widgets/controls",
          "model_module_version": "1.5.0",
          "model_name": "HTMLModel",
          "state": {
            "_dom_classes": [],
            "_model_module": "@jupyter-widgets/controls",
            "_model_module_version": "1.5.0",
            "_model_name": "HTMLModel",
            "_view_count": null,
            "_view_module": "@jupyter-widgets/controls",
            "_view_module_version": "1.5.0",
            "_view_name": "HTMLView",
            "description": "",
            "description_tooltip": null,
            "layout": "IPY_MODEL_faa554726ac34dfc83df2fbed2d0b401",
            "placeholder": "​",
            "style": "IPY_MODEL_5d82cf63f13d4397b07de2c27efe9f1c",
            "value": " 1000/1000 [00:00&lt;00:00, 5063.61it/s]"
          }
        },
        "213d79fdb16f458083e16a40bd2b6fbb": {
          "model_module": "@jupyter-widgets/controls",
          "model_module_version": "1.5.0",
          "model_name": "HTMLModel",
          "state": {
            "_dom_classes": [],
            "_model_module": "@jupyter-widgets/controls",
            "_model_module_version": "1.5.0",
            "_model_name": "HTMLModel",
            "_view_count": null,
            "_view_module": "@jupyter-widgets/controls",
            "_view_module_version": "1.5.0",
            "_view_name": "HTMLView",
            "description": "",
            "description_tooltip": null,
            "layout": "IPY_MODEL_d00d3483776047ff996c05ce45a3ac42",
            "placeholder": "​",
            "style": "IPY_MODEL_6a3f0cd0db5444b48c7a9001fea67a5c",
            "value": " 1497138/1497138 [14:20&lt;00:00, 2148.85it/s]"
          }
        },
        "3b75f36d369245c599bdb797dcaf2f75": {
          "model_module": "@jupyter-widgets/controls",
          "model_module_version": "1.5.0",
          "model_name": "HTMLModel",
          "state": {
            "_dom_classes": [],
            "_model_module": "@jupyter-widgets/controls",
            "_model_module_version": "1.5.0",
            "_model_name": "HTMLModel",
            "_view_count": null,
            "_view_module": "@jupyter-widgets/controls",
            "_view_module_version": "1.5.0",
            "_view_name": "HTMLView",
            "description": "",
            "description_tooltip": null,
            "layout": "IPY_MODEL_f171bbc4ff46417ca5d7c756465427b7",
            "placeholder": "​",
            "style": "IPY_MODEL_017f3ff31a41499ab1bc18f6a5fca96b",
            "value": "100%"
          }
        },
        "3dd2ca8311b1484daed3565261b55a29": {
          "model_module": "@jupyter-widgets/controls",
          "model_module_version": "1.5.0",
          "model_name": "ProgressStyleModel",
          "state": {
            "_model_module": "@jupyter-widgets/controls",
            "_model_module_version": "1.5.0",
            "_model_name": "ProgressStyleModel",
            "_view_count": null,
            "_view_module": "@jupyter-widgets/base",
            "_view_module_version": "1.2.0",
            "_view_name": "StyleView",
            "bar_color": null,
            "description_width": ""
          }
        },
        "455433d3036a4dfd980d952dd56cca5c": {
          "model_module": "@jupyter-widgets/controls",
          "model_module_version": "1.5.0",
          "model_name": "DescriptionStyleModel",
          "state": {
            "_model_module": "@jupyter-widgets/controls",
            "_model_module_version": "1.5.0",
            "_model_name": "DescriptionStyleModel",
            "_view_count": null,
            "_view_module": "@jupyter-widgets/base",
            "_view_module_version": "1.2.0",
            "_view_name": "StyleView",
            "description_width": ""
          }
        },
        "4ccc925dc85c4431893bd0ddd8dacf33": {
          "model_module": "@jupyter-widgets/controls",
          "model_module_version": "1.5.0",
          "model_name": "DescriptionStyleModel",
          "state": {
            "_model_module": "@jupyter-widgets/controls",
            "_model_module_version": "1.5.0",
            "_model_name": "DescriptionStyleModel",
            "_view_count": null,
            "_view_module": "@jupyter-widgets/base",
            "_view_module_version": "1.2.0",
            "_view_name": "StyleView",
            "description_width": ""
          }
        },
        "5d82cf63f13d4397b07de2c27efe9f1c": {
          "model_module": "@jupyter-widgets/controls",
          "model_module_version": "1.5.0",
          "model_name": "DescriptionStyleModel",
          "state": {
            "_model_module": "@jupyter-widgets/controls",
            "_model_module_version": "1.5.0",
            "_model_name": "DescriptionStyleModel",
            "_view_count": null,
            "_view_module": "@jupyter-widgets/base",
            "_view_module_version": "1.2.0",
            "_view_name": "StyleView",
            "description_width": ""
          }
        },
        "6a3f0cd0db5444b48c7a9001fea67a5c": {
          "model_module": "@jupyter-widgets/controls",
          "model_module_version": "1.5.0",
          "model_name": "DescriptionStyleModel",
          "state": {
            "_model_module": "@jupyter-widgets/controls",
            "_model_module_version": "1.5.0",
            "_model_name": "DescriptionStyleModel",
            "_view_count": null,
            "_view_module": "@jupyter-widgets/base",
            "_view_module_version": "1.2.0",
            "_view_name": "StyleView",
            "description_width": ""
          }
        },
        "76fa0ee120dd48d29d3491d34e9f96a8": {
          "model_module": "@jupyter-widgets/controls",
          "model_module_version": "1.5.0",
          "model_name": "FloatProgressModel",
          "state": {
            "_dom_classes": [],
            "_model_module": "@jupyter-widgets/controls",
            "_model_module_version": "1.5.0",
            "_model_name": "FloatProgressModel",
            "_view_count": null,
            "_view_module": "@jupyter-widgets/controls",
            "_view_module_version": "1.5.0",
            "_view_name": "ProgressView",
            "bar_style": "success",
            "description": "",
            "description_tooltip": null,
            "layout": "IPY_MODEL_7938e5a48a9f4257b3bd4477522e8416",
            "max": 1497138,
            "min": 0,
            "orientation": "horizontal",
            "style": "IPY_MODEL_3dd2ca8311b1484daed3565261b55a29",
            "value": 1497138
          }
        },
        "7938e5a48a9f4257b3bd4477522e8416": {
          "model_module": "@jupyter-widgets/base",
          "model_module_version": "1.2.0",
          "model_name": "LayoutModel",
          "state": {
            "_model_module": "@jupyter-widgets/base",
            "_model_module_version": "1.2.0",
            "_model_name": "LayoutModel",
            "_view_count": null,
            "_view_module": "@jupyter-widgets/base",
            "_view_module_version": "1.2.0",
            "_view_name": "LayoutView",
            "align_content": null,
            "align_items": null,
            "align_self": null,
            "border": null,
            "bottom": null,
            "display": null,
            "flex": null,
            "flex_flow": null,
            "grid_area": null,
            "grid_auto_columns": null,
            "grid_auto_flow": null,
            "grid_auto_rows": null,
            "grid_column": null,
            "grid_gap": null,
            "grid_row": null,
            "grid_template_areas": null,
            "grid_template_columns": null,
            "grid_template_rows": null,
            "height": null,
            "justify_content": null,
            "justify_items": null,
            "left": null,
            "margin": null,
            "max_height": null,
            "max_width": null,
            "min_height": null,
            "min_width": null,
            "object_fit": null,
            "object_position": null,
            "order": null,
            "overflow": null,
            "overflow_x": null,
            "overflow_y": null,
            "padding": null,
            "right": null,
            "top": null,
            "visibility": null,
            "width": null
          }
        },
        "7d20b3b57f8040f7bae8911468678b52": {
          "model_module": "@jupyter-widgets/controls",
          "model_module_version": "1.5.0",
          "model_name": "FloatProgressModel",
          "state": {
            "_dom_classes": [],
            "_model_module": "@jupyter-widgets/controls",
            "_model_module_version": "1.5.0",
            "_model_name": "FloatProgressModel",
            "_view_count": null,
            "_view_module": "@jupyter-widgets/controls",
            "_view_module_version": "1.5.0",
            "_view_name": "ProgressView",
            "bar_style": "success",
            "description": "",
            "description_tooltip": null,
            "layout": "IPY_MODEL_d9912e19f5b74772a1a482a03795b6d8",
            "max": 775,
            "min": 0,
            "orientation": "horizontal",
            "style": "IPY_MODEL_cbf73d2161f04de8b4fd97061724c185",
            "value": 775
          }
        },
        "7f7828ef5d744ede9a9d7aac3256efe2": {
          "model_module": "@jupyter-widgets/base",
          "model_module_version": "1.2.0",
          "model_name": "LayoutModel",
          "state": {
            "_model_module": "@jupyter-widgets/base",
            "_model_module_version": "1.2.0",
            "_model_name": "LayoutModel",
            "_view_count": null,
            "_view_module": "@jupyter-widgets/base",
            "_view_module_version": "1.2.0",
            "_view_name": "LayoutView",
            "align_content": null,
            "align_items": null,
            "align_self": null,
            "border": null,
            "bottom": null,
            "display": null,
            "flex": null,
            "flex_flow": null,
            "grid_area": null,
            "grid_auto_columns": null,
            "grid_auto_flow": null,
            "grid_auto_rows": null,
            "grid_column": null,
            "grid_gap": null,
            "grid_row": null,
            "grid_template_areas": null,
            "grid_template_columns": null,
            "grid_template_rows": null,
            "height": null,
            "justify_content": null,
            "justify_items": null,
            "left": null,
            "margin": null,
            "max_height": null,
            "max_width": null,
            "min_height": null,
            "min_width": null,
            "object_fit": null,
            "object_position": null,
            "order": null,
            "overflow": null,
            "overflow_x": null,
            "overflow_y": null,
            "padding": null,
            "right": null,
            "top": null,
            "visibility": null,
            "width": null
          }
        },
        "812474fcb81c42a4ba3d70c4ff9a9849": {
          "model_module": "@jupyter-widgets/base",
          "model_module_version": "1.2.0",
          "model_name": "LayoutModel",
          "state": {
            "_model_module": "@jupyter-widgets/base",
            "_model_module_version": "1.2.0",
            "_model_name": "LayoutModel",
            "_view_count": null,
            "_view_module": "@jupyter-widgets/base",
            "_view_module_version": "1.2.0",
            "_view_name": "LayoutView",
            "align_content": null,
            "align_items": null,
            "align_self": null,
            "border": null,
            "bottom": null,
            "display": null,
            "flex": null,
            "flex_flow": null,
            "grid_area": null,
            "grid_auto_columns": null,
            "grid_auto_flow": null,
            "grid_auto_rows": null,
            "grid_column": null,
            "grid_gap": null,
            "grid_row": null,
            "grid_template_areas": null,
            "grid_template_columns": null,
            "grid_template_rows": null,
            "height": null,
            "justify_content": null,
            "justify_items": null,
            "left": null,
            "margin": null,
            "max_height": null,
            "max_width": null,
            "min_height": null,
            "min_width": null,
            "object_fit": null,
            "object_position": null,
            "order": null,
            "overflow": null,
            "overflow_x": null,
            "overflow_y": null,
            "padding": null,
            "right": null,
            "top": null,
            "visibility": null,
            "width": null
          }
        },
        "94967fa65c3d4210b41486e20f782d0e": {
          "model_module": "@jupyter-widgets/base",
          "model_module_version": "1.2.0",
          "model_name": "LayoutModel",
          "state": {
            "_model_module": "@jupyter-widgets/base",
            "_model_module_version": "1.2.0",
            "_model_name": "LayoutModel",
            "_view_count": null,
            "_view_module": "@jupyter-widgets/base",
            "_view_module_version": "1.2.0",
            "_view_name": "LayoutView",
            "align_content": null,
            "align_items": null,
            "align_self": null,
            "border": null,
            "bottom": null,
            "display": null,
            "flex": null,
            "flex_flow": null,
            "grid_area": null,
            "grid_auto_columns": null,
            "grid_auto_flow": null,
            "grid_auto_rows": null,
            "grid_column": null,
            "grid_gap": null,
            "grid_row": null,
            "grid_template_areas": null,
            "grid_template_columns": null,
            "grid_template_rows": null,
            "height": null,
            "justify_content": null,
            "justify_items": null,
            "left": null,
            "margin": null,
            "max_height": null,
            "max_width": null,
            "min_height": null,
            "min_width": null,
            "object_fit": null,
            "object_position": null,
            "order": null,
            "overflow": null,
            "overflow_x": null,
            "overflow_y": null,
            "padding": null,
            "right": null,
            "top": null,
            "visibility": null,
            "width": null
          }
        },
        "982ef37459f04d10a1c7574955035ea3": {
          "model_module": "@jupyter-widgets/base",
          "model_module_version": "1.2.0",
          "model_name": "LayoutModel",
          "state": {
            "_model_module": "@jupyter-widgets/base",
            "_model_module_version": "1.2.0",
            "_model_name": "LayoutModel",
            "_view_count": null,
            "_view_module": "@jupyter-widgets/base",
            "_view_module_version": "1.2.0",
            "_view_name": "LayoutView",
            "align_content": null,
            "align_items": null,
            "align_self": null,
            "border": null,
            "bottom": null,
            "display": null,
            "flex": null,
            "flex_flow": null,
            "grid_area": null,
            "grid_auto_columns": null,
            "grid_auto_flow": null,
            "grid_auto_rows": null,
            "grid_column": null,
            "grid_gap": null,
            "grid_row": null,
            "grid_template_areas": null,
            "grid_template_columns": null,
            "grid_template_rows": null,
            "height": null,
            "justify_content": null,
            "justify_items": null,
            "left": null,
            "margin": null,
            "max_height": null,
            "max_width": null,
            "min_height": null,
            "min_width": null,
            "object_fit": null,
            "object_position": null,
            "order": null,
            "overflow": null,
            "overflow_x": null,
            "overflow_y": null,
            "padding": null,
            "right": null,
            "top": null,
            "visibility": null,
            "width": null
          }
        },
        "9e6fd26dfca2427397e090f6fb6cc091": {
          "model_module": "@jupyter-widgets/controls",
          "model_module_version": "1.5.0",
          "model_name": "ProgressStyleModel",
          "state": {
            "_model_module": "@jupyter-widgets/controls",
            "_model_module_version": "1.5.0",
            "_model_name": "ProgressStyleModel",
            "_view_count": null,
            "_view_module": "@jupyter-widgets/base",
            "_view_module_version": "1.2.0",
            "_view_name": "StyleView",
            "bar_color": null,
            "description_width": ""
          }
        },
        "abe7af4ed5ca42c0863c4d23740d4b7c": {
          "model_module": "@jupyter-widgets/controls",
          "model_module_version": "1.5.0",
          "model_name": "HTMLModel",
          "state": {
            "_dom_classes": [],
            "_model_module": "@jupyter-widgets/controls",
            "_model_module_version": "1.5.0",
            "_model_name": "HTMLModel",
            "_view_count": null,
            "_view_module": "@jupyter-widgets/controls",
            "_view_module_version": "1.5.0",
            "_view_name": "HTMLView",
            "description": "",
            "description_tooltip": null,
            "layout": "IPY_MODEL_e8df70250228461b8e371b9b56c74961",
            "placeholder": "​",
            "style": "IPY_MODEL_455433d3036a4dfd980d952dd56cca5c",
            "value": "100%"
          }
        },
        "bbdb296ec3214f5b8f9faf7d3e248dc0": {
          "model_module": "@jupyter-widgets/controls",
          "model_module_version": "1.5.0",
          "model_name": "HTMLModel",
          "state": {
            "_dom_classes": [],
            "_model_module": "@jupyter-widgets/controls",
            "_model_module_version": "1.5.0",
            "_model_name": "HTMLModel",
            "_view_count": null,
            "_view_module": "@jupyter-widgets/controls",
            "_view_module_version": "1.5.0",
            "_view_name": "HTMLView",
            "description": "",
            "description_tooltip": null,
            "layout": "IPY_MODEL_94967fa65c3d4210b41486e20f782d0e",
            "placeholder": "​",
            "style": "IPY_MODEL_ea2f22cfd0ae484dba5ed68cb23d8df8",
            "value": " 775/775 [03:22&lt;00:00,  4.65it/s]"
          }
        },
        "bc6b3356feec4636960def19588e15cd": {
          "model_module": "@jupyter-widgets/controls",
          "model_module_version": "1.5.0",
          "model_name": "HTMLModel",
          "state": {
            "_dom_classes": [],
            "_model_module": "@jupyter-widgets/controls",
            "_model_module_version": "1.5.0",
            "_model_name": "HTMLModel",
            "_view_count": null,
            "_view_module": "@jupyter-widgets/controls",
            "_view_module_version": "1.5.0",
            "_view_name": "HTMLView",
            "description": "",
            "description_tooltip": null,
            "layout": "IPY_MODEL_812474fcb81c42a4ba3d70c4ff9a9849",
            "placeholder": "​",
            "style": "IPY_MODEL_4ccc925dc85c4431893bd0ddd8dacf33",
            "value": "100%"
          }
        },
        "cbf73d2161f04de8b4fd97061724c185": {
          "model_module": "@jupyter-widgets/controls",
          "model_module_version": "1.5.0",
          "model_name": "ProgressStyleModel",
          "state": {
            "_model_module": "@jupyter-widgets/controls",
            "_model_module_version": "1.5.0",
            "_model_name": "ProgressStyleModel",
            "_view_count": null,
            "_view_module": "@jupyter-widgets/base",
            "_view_module_version": "1.2.0",
            "_view_name": "StyleView",
            "bar_color": null,
            "description_width": ""
          }
        },
        "d00d3483776047ff996c05ce45a3ac42": {
          "model_module": "@jupyter-widgets/base",
          "model_module_version": "1.2.0",
          "model_name": "LayoutModel",
          "state": {
            "_model_module": "@jupyter-widgets/base",
            "_model_module_version": "1.2.0",
            "_model_name": "LayoutModel",
            "_view_count": null,
            "_view_module": "@jupyter-widgets/base",
            "_view_module_version": "1.2.0",
            "_view_name": "LayoutView",
            "align_content": null,
            "align_items": null,
            "align_self": null,
            "border": null,
            "bottom": null,
            "display": null,
            "flex": null,
            "flex_flow": null,
            "grid_area": null,
            "grid_auto_columns": null,
            "grid_auto_flow": null,
            "grid_auto_rows": null,
            "grid_column": null,
            "grid_gap": null,
            "grid_row": null,
            "grid_template_areas": null,
            "grid_template_columns": null,
            "grid_template_rows": null,
            "height": null,
            "justify_content": null,
            "justify_items": null,
            "left": null,
            "margin": null,
            "max_height": null,
            "max_width": null,
            "min_height": null,
            "min_width": null,
            "object_fit": null,
            "object_position": null,
            "order": null,
            "overflow": null,
            "overflow_x": null,
            "overflow_y": null,
            "padding": null,
            "right": null,
            "top": null,
            "visibility": null,
            "width": null
          }
        },
        "d0b6b7c2e6804af9acc197b00c44f770": {
          "model_module": "@jupyter-widgets/controls",
          "model_module_version": "1.5.0",
          "model_name": "FloatProgressModel",
          "state": {
            "_dom_classes": [],
            "_model_module": "@jupyter-widgets/controls",
            "_model_module_version": "1.5.0",
            "_model_name": "FloatProgressModel",
            "_view_count": null,
            "_view_module": "@jupyter-widgets/controls",
            "_view_module_version": "1.5.0",
            "_view_name": "ProgressView",
            "bar_style": "success",
            "description": "",
            "description_tooltip": null,
            "layout": "IPY_MODEL_e6ca0cafa27a440da32e21aca13a7b0f",
            "max": 1000,
            "min": 0,
            "orientation": "horizontal",
            "style": "IPY_MODEL_9e6fd26dfca2427397e090f6fb6cc091",
            "value": 1000
          }
        },
        "d6e9bf535e7e402f8933702bbf973595": {
          "model_module": "@jupyter-widgets/controls",
          "model_module_version": "1.5.0",
          "model_name": "HBoxModel",
          "state": {
            "_dom_classes": [],
            "_model_module": "@jupyter-widgets/controls",
            "_model_module_version": "1.5.0",
            "_model_name": "HBoxModel",
            "_view_count": null,
            "_view_module": "@jupyter-widgets/controls",
            "_view_module_version": "1.5.0",
            "_view_name": "HBoxView",
            "box_style": "",
            "children": [
              "IPY_MODEL_abe7af4ed5ca42c0863c4d23740d4b7c",
              "IPY_MODEL_7d20b3b57f8040f7bae8911468678b52",
              "IPY_MODEL_bbdb296ec3214f5b8f9faf7d3e248dc0"
            ],
            "layout": "IPY_MODEL_19bb0a97b71e4f79aa6b567f8126f621"
          }
        },
        "d9912e19f5b74772a1a482a03795b6d8": {
          "model_module": "@jupyter-widgets/base",
          "model_module_version": "1.2.0",
          "model_name": "LayoutModel",
          "state": {
            "_model_module": "@jupyter-widgets/base",
            "_model_module_version": "1.2.0",
            "_model_name": "LayoutModel",
            "_view_count": null,
            "_view_module": "@jupyter-widgets/base",
            "_view_module_version": "1.2.0",
            "_view_name": "LayoutView",
            "align_content": null,
            "align_items": null,
            "align_self": null,
            "border": null,
            "bottom": null,
            "display": null,
            "flex": null,
            "flex_flow": null,
            "grid_area": null,
            "grid_auto_columns": null,
            "grid_auto_flow": null,
            "grid_auto_rows": null,
            "grid_column": null,
            "grid_gap": null,
            "grid_row": null,
            "grid_template_areas": null,
            "grid_template_columns": null,
            "grid_template_rows": null,
            "height": null,
            "justify_content": null,
            "justify_items": null,
            "left": null,
            "margin": null,
            "max_height": null,
            "max_width": null,
            "min_height": null,
            "min_width": null,
            "object_fit": null,
            "object_position": null,
            "order": null,
            "overflow": null,
            "overflow_x": null,
            "overflow_y": null,
            "padding": null,
            "right": null,
            "top": null,
            "visibility": null,
            "width": null
          }
        },
        "e6ca0cafa27a440da32e21aca13a7b0f": {
          "model_module": "@jupyter-widgets/base",
          "model_module_version": "1.2.0",
          "model_name": "LayoutModel",
          "state": {
            "_model_module": "@jupyter-widgets/base",
            "_model_module_version": "1.2.0",
            "_model_name": "LayoutModel",
            "_view_count": null,
            "_view_module": "@jupyter-widgets/base",
            "_view_module_version": "1.2.0",
            "_view_name": "LayoutView",
            "align_content": null,
            "align_items": null,
            "align_self": null,
            "border": null,
            "bottom": null,
            "display": null,
            "flex": null,
            "flex_flow": null,
            "grid_area": null,
            "grid_auto_columns": null,
            "grid_auto_flow": null,
            "grid_auto_rows": null,
            "grid_column": null,
            "grid_gap": null,
            "grid_row": null,
            "grid_template_areas": null,
            "grid_template_columns": null,
            "grid_template_rows": null,
            "height": null,
            "justify_content": null,
            "justify_items": null,
            "left": null,
            "margin": null,
            "max_height": null,
            "max_width": null,
            "min_height": null,
            "min_width": null,
            "object_fit": null,
            "object_position": null,
            "order": null,
            "overflow": null,
            "overflow_x": null,
            "overflow_y": null,
            "padding": null,
            "right": null,
            "top": null,
            "visibility": null,
            "width": null
          }
        },
        "e8df70250228461b8e371b9b56c74961": {
          "model_module": "@jupyter-widgets/base",
          "model_module_version": "1.2.0",
          "model_name": "LayoutModel",
          "state": {
            "_model_module": "@jupyter-widgets/base",
            "_model_module_version": "1.2.0",
            "_model_name": "LayoutModel",
            "_view_count": null,
            "_view_module": "@jupyter-widgets/base",
            "_view_module_version": "1.2.0",
            "_view_name": "LayoutView",
            "align_content": null,
            "align_items": null,
            "align_self": null,
            "border": null,
            "bottom": null,
            "display": null,
            "flex": null,
            "flex_flow": null,
            "grid_area": null,
            "grid_auto_columns": null,
            "grid_auto_flow": null,
            "grid_auto_rows": null,
            "grid_column": null,
            "grid_gap": null,
            "grid_row": null,
            "grid_template_areas": null,
            "grid_template_columns": null,
            "grid_template_rows": null,
            "height": null,
            "justify_content": null,
            "justify_items": null,
            "left": null,
            "margin": null,
            "max_height": null,
            "max_width": null,
            "min_height": null,
            "min_width": null,
            "object_fit": null,
            "object_position": null,
            "order": null,
            "overflow": null,
            "overflow_x": null,
            "overflow_y": null,
            "padding": null,
            "right": null,
            "top": null,
            "visibility": null,
            "width": null
          }
        },
        "ea2f22cfd0ae484dba5ed68cb23d8df8": {
          "model_module": "@jupyter-widgets/controls",
          "model_module_version": "1.5.0",
          "model_name": "DescriptionStyleModel",
          "state": {
            "_model_module": "@jupyter-widgets/controls",
            "_model_module_version": "1.5.0",
            "_model_name": "DescriptionStyleModel",
            "_view_count": null,
            "_view_module": "@jupyter-widgets/base",
            "_view_module_version": "1.2.0",
            "_view_name": "StyleView",
            "description_width": ""
          }
        },
        "f171bbc4ff46417ca5d7c756465427b7": {
          "model_module": "@jupyter-widgets/base",
          "model_module_version": "1.2.0",
          "model_name": "LayoutModel",
          "state": {
            "_model_module": "@jupyter-widgets/base",
            "_model_module_version": "1.2.0",
            "_model_name": "LayoutModel",
            "_view_count": null,
            "_view_module": "@jupyter-widgets/base",
            "_view_module_version": "1.2.0",
            "_view_name": "LayoutView",
            "align_content": null,
            "align_items": null,
            "align_self": null,
            "border": null,
            "bottom": null,
            "display": null,
            "flex": null,
            "flex_flow": null,
            "grid_area": null,
            "grid_auto_columns": null,
            "grid_auto_flow": null,
            "grid_auto_rows": null,
            "grid_column": null,
            "grid_gap": null,
            "grid_row": null,
            "grid_template_areas": null,
            "grid_template_columns": null,
            "grid_template_rows": null,
            "height": null,
            "justify_content": null,
            "justify_items": null,
            "left": null,
            "margin": null,
            "max_height": null,
            "max_width": null,
            "min_height": null,
            "min_width": null,
            "object_fit": null,
            "object_position": null,
            "order": null,
            "overflow": null,
            "overflow_x": null,
            "overflow_y": null,
            "padding": null,
            "right": null,
            "top": null,
            "visibility": null,
            "width": null
          }
        },
        "faa554726ac34dfc83df2fbed2d0b401": {
          "model_module": "@jupyter-widgets/base",
          "model_module_version": "1.2.0",
          "model_name": "LayoutModel",
          "state": {
            "_model_module": "@jupyter-widgets/base",
            "_model_module_version": "1.2.0",
            "_model_name": "LayoutModel",
            "_view_count": null,
            "_view_module": "@jupyter-widgets/base",
            "_view_module_version": "1.2.0",
            "_view_name": "LayoutView",
            "align_content": null,
            "align_items": null,
            "align_self": null,
            "border": null,
            "bottom": null,
            "display": null,
            "flex": null,
            "flex_flow": null,
            "grid_area": null,
            "grid_auto_columns": null,
            "grid_auto_flow": null,
            "grid_auto_rows": null,
            "grid_column": null,
            "grid_gap": null,
            "grid_row": null,
            "grid_template_areas": null,
            "grid_template_columns": null,
            "grid_template_rows": null,
            "height": null,
            "justify_content": null,
            "justify_items": null,
            "left": null,
            "margin": null,
            "max_height": null,
            "max_width": null,
            "min_height": null,
            "min_width": null,
            "object_fit": null,
            "object_position": null,
            "order": null,
            "overflow": null,
            "overflow_x": null,
            "overflow_y": null,
            "padding": null,
            "right": null,
            "top": null,
            "visibility": null,
            "width": null
          }
        }
      }
    }
  },
  "nbformat": 4,
  "nbformat_minor": 0
}
